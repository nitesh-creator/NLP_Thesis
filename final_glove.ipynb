{
  "nbformat": 4,
  "nbformat_minor": 0,
  "metadata": {
    "colab": {
      "provenance": []
    },
    "kernelspec": {
      "name": "python3",
      "display_name": "Python 3"
    },
    "language_info": {
      "name": "python"
    }
  },
  "cells": [
    {
      "cell_type": "code",
      "execution_count": null,
      "metadata": {
        "id": "QFzhH3dxPsoV",
        "colab": {
          "base_uri": "https://localhost:8080/",
          "height": 373
        },
        "outputId": "2ca13e7d-425a-43b1-f5a2-4956e3b68636"
      },
      "outputs": [
        {
          "output_type": "error",
          "ename": "ImportError",
          "evalue": "ignored",
          "traceback": [
            "\u001b[0;31m---------------------------------------------------------------------------\u001b[0m",
            "\u001b[0;31mImportError\u001b[0m                               Traceback (most recent call last)",
            "\u001b[0;32m<ipython-input-34-7b6aaafeb5ce>\u001b[0m in \u001b[0;36m<module>\u001b[0;34m\u001b[0m\n\u001b[1;32m      5\u001b[0m \u001b[0;32mfrom\u001b[0m \u001b[0mnumpy\u001b[0m \u001b[0;32mimport\u001b[0m \u001b[0mzeros\u001b[0m\u001b[0;34m\u001b[0m\u001b[0;34m\u001b[0m\u001b[0m\n\u001b[1;32m      6\u001b[0m \u001b[0;32mfrom\u001b[0m \u001b[0mkeras\u001b[0m\u001b[0;34m.\u001b[0m\u001b[0mpreprocessing\u001b[0m\u001b[0;34m.\u001b[0m\u001b[0mtext\u001b[0m \u001b[0;32mimport\u001b[0m \u001b[0mTokenizer\u001b[0m\u001b[0;34m\u001b[0m\u001b[0;34m\u001b[0m\u001b[0m\n\u001b[0;32m----> 7\u001b[0;31m \u001b[0;32mfrom\u001b[0m \u001b[0mkeras\u001b[0m\u001b[0;34m.\u001b[0m\u001b[0mpreprocessing\u001b[0m\u001b[0;34m.\u001b[0m\u001b[0msequence\u001b[0m \u001b[0;32mimport\u001b[0m \u001b[0mpad_sequences\u001b[0m\u001b[0;34m\u001b[0m\u001b[0;34m\u001b[0m\u001b[0m\n\u001b[0m\u001b[1;32m      8\u001b[0m \u001b[0;32mfrom\u001b[0m \u001b[0mkeras\u001b[0m\u001b[0;34m.\u001b[0m\u001b[0mmodels\u001b[0m \u001b[0;32mimport\u001b[0m \u001b[0mSequential\u001b[0m\u001b[0;34m\u001b[0m\u001b[0;34m\u001b[0m\u001b[0m\n\u001b[1;32m      9\u001b[0m \u001b[0;32mfrom\u001b[0m \u001b[0mkeras\u001b[0m\u001b[0;34m.\u001b[0m\u001b[0mlayers\u001b[0m \u001b[0;32mimport\u001b[0m \u001b[0mDense\u001b[0m\u001b[0;34m\u001b[0m\u001b[0;34m\u001b[0m\u001b[0m\n",
            "\u001b[0;31mImportError\u001b[0m: cannot import name 'pad_sequences' from 'keras.preprocessing.sequence' (/usr/local/lib/python3.7/dist-packages/keras/preprocessing/sequence.py)",
            "",
            "\u001b[0;31m---------------------------------------------------------------------------\u001b[0;32m\nNOTE: If your import is failing due to a missing package, you can\nmanually install dependencies using either !pip or !apt.\n\nTo view examples of installing some common dependencies, click the\n\"Open Examples\" button below.\n\u001b[0;31m---------------------------------------------------------------------------\u001b[0m\n"
          ],
          "errorDetails": {
            "actions": [
              {
                "action": "open_url",
                "actionText": "Open Examples",
                "url": "/notebooks/snippets/importing_libraries.ipynb"
              }
            ]
          }
        }
      ],
      "source": [
        "import pandas as pd\n",
        "import numpy as np\n",
        "from numpy import array\n",
        "from numpy import asarray\n",
        "from numpy import zeros\n",
        "from keras.preprocessing.text import Tokenizer\n",
        "from keras.preprocessing.sequence import pad_sequences\n",
        "from keras.models import Sequential\n",
        "from keras.layers import Dense\n",
        "from keras.layers import Flatten\n",
        "from keras.layers import Embedding"
      ]
    },
    {
      "cell_type": "code",
      "source": [
        "df=pd.read_csv('/content/drive/MyDrive/BTP/ecommerceDataset.csv')"
      ],
      "metadata": {
        "id": "k-RM6qi3QKMJ"
      },
      "execution_count": null,
      "outputs": []
    },
    {
      "cell_type": "code",
      "source": [
        "df"
      ],
      "metadata": {
        "colab": {
          "base_uri": "https://localhost:8080/",
          "height": 606
        },
        "id": "Zs_S9a6AQTv9",
        "outputId": "c35741b1-56fa-4652-fbac-c1d5c90e980f"
      },
      "execution_count": null,
      "outputs": [
        {
          "output_type": "execute_result",
          "data": {
            "text/plain": [
              "         Household  \\\n",
              "0        Household   \n",
              "1        Household   \n",
              "2        Household   \n",
              "3        Household   \n",
              "4        Household   \n",
              "...            ...   \n",
              "50419  Electronics   \n",
              "50420  Electronics   \n",
              "50421  Electronics   \n",
              "50422  Electronics   \n",
              "50423  Electronics   \n",
              "\n",
              "      Paper Plane Design Framed Wall Hanging Motivational Office Decor Art Prints (8.7 X 8.7 inch) - Set of 4 Painting made up in synthetic frame with uv textured print which gives multi effects and attracts towards it. This is an special series of paintings which makes your wall very beautiful and gives a royal touch. This painting is ready to hang, you would be proud to possess this unique painting that is a niche apart. We use only the most modern and efficient printing technology on our prints, with only the and inks and precision epson, roland and hp printers. This innovative hd printing technique results in durable and spectacular looking prints of the highest that last a lifetime. We print solely with top-notch 100% inks, to achieve brilliant and true colours. Due to their high level of uv resistance, our prints retain their beautiful colours for many years. Add colour and style to your living space with this digitally printed painting. Some are for pleasure and some for eternal bliss.so bring home this elegant print that is lushed with rich colors that makes it nothing but sheer elegance to be to your friends and family.it would be treasured forever by whoever your lucky recipient is. Liven up your place with these intriguing paintings that are high definition hd graphic digital prints for home, office or any room.  \n",
              "0      SAF 'Floral' Framed Painting (Wood, 30 inch x ...                                                                                                                                                                                                                                                                                                                                                                                                                                                                                                                                                                                                                                                                                                                                                                                                                                                                                                                                                                                                                                                                                                                                                                                                                                                                                                                                          \n",
              "1      SAF 'UV Textured Modern Art Print Framed' Pain...                                                                                                                                                                                                                                                                                                                                                                                                                                                                                                                                                                                                                                                                                                                                                                                                                                                                                                                                                                                                                                                                                                                                                                                                                                                                                                                                          \n",
              "2      SAF Flower Print Framed Painting (Synthetic, 1...                                                                                                                                                                                                                                                                                                                                                                                                                                                                                                                                                                                                                                                                                                                                                                                                                                                                                                                                                                                                                                                                                                                                                                                                                                                                                                                                          \n",
              "3      Incredible Gifts India Wooden Happy Birthday U...                                                                                                                                                                                                                                                                                                                                                                                                                                                                                                                                                                                                                                                                                                                                                                                                                                                                                                                                                                                                                                                                                                                                                                                                                                                                                                                                          \n",
              "4      Pitaara Box Romantic Venice Canvas Painting 6m...                                                                                                                                                                                                                                                                                                                                                                                                                                                                                                                                                                                                                                                                                                                                                                                                                                                                                                                                                                                                                                                                                                                                                                                                                                                                                                                                          \n",
              "...                                                  ...                                                                                                                                                                                                                                                                                                                                                                                                                                                                                                                                                                                                                                                                                                                                                                                                                                                                                                                                                                                                                                                                                                                                                                                                                                                                                                                                          \n",
              "50419  Strontium MicroSD Class 10 8GB Memory Card (Bl...                                                                                                                                                                                                                                                                                                                                                                                                                                                                                                                                                                                                                                                                                                                                                                                                                                                                                                                                                                                                                                                                                                                                                                                                                                                                                                                                          \n",
              "50420  CrossBeats Wave Waterproof Bluetooth Wireless ...                                                                                                                                                                                                                                                                                                                                                                                                                                                                                                                                                                                                                                                                                                                                                                                                                                                                                                                                                                                                                                                                                                                                                                                                                                                                                                                                          \n",
              "50421  Karbonn Titanium Wind W4 (White) Karbonn Titan...                                                                                                                                                                                                                                                                                                                                                                                                                                                                                                                                                                                                                                                                                                                                                                                                                                                                                                                                                                                                                                                                                                                                                                                                                                                                                                                                          \n",
              "50422  Samsung Guru FM Plus (SM-B110E/D, Black) Colou...                                                                                                                                                                                                                                                                                                                                                                                                                                                                                                                                                                                                                                                                                                                                                                                                                                                                                                                                                                                                                                                                                                                                                                                                                                                                                                                                          \n",
              "50423                   Micromax Canvas Win W121 (White)                                                                                                                                                                                                                                                                                                                                                                                                                                                                                                                                                                                                                                                                                                                                                                                                                                                                                                                                                                                                                                                                                                                                                                                                                                                                                                                                          \n",
              "\n",
              "[50424 rows x 2 columns]"
            ],
            "text/html": [
              "\n",
              "  <div id=\"df-8029fcc2-6d80-4613-9640-cf46e3c53479\">\n",
              "    <div class=\"colab-df-container\">\n",
              "      <div>\n",
              "<style scoped>\n",
              "    .dataframe tbody tr th:only-of-type {\n",
              "        vertical-align: middle;\n",
              "    }\n",
              "\n",
              "    .dataframe tbody tr th {\n",
              "        vertical-align: top;\n",
              "    }\n",
              "\n",
              "    .dataframe thead th {\n",
              "        text-align: right;\n",
              "    }\n",
              "</style>\n",
              "<table border=\"1\" class=\"dataframe\">\n",
              "  <thead>\n",
              "    <tr style=\"text-align: right;\">\n",
              "      <th></th>\n",
              "      <th>Household</th>\n",
              "      <th>Paper Plane Design Framed Wall Hanging Motivational Office Decor Art Prints (8.7 X 8.7 inch) - Set of 4 Painting made up in synthetic frame with uv textured print which gives multi effects and attracts towards it. This is an special series of paintings which makes your wall very beautiful and gives a royal touch. This painting is ready to hang, you would be proud to possess this unique painting that is a niche apart. We use only the most modern and efficient printing technology on our prints, with only the and inks and precision epson, roland and hp printers. This innovative hd printing technique results in durable and spectacular looking prints of the highest that last a lifetime. We print solely with top-notch 100% inks, to achieve brilliant and true colours. Due to their high level of uv resistance, our prints retain their beautiful colours for many years. Add colour and style to your living space with this digitally printed painting. Some are for pleasure and some for eternal bliss.so bring home this elegant print that is lushed with rich colors that makes it nothing but sheer elegance to be to your friends and family.it would be treasured forever by whoever your lucky recipient is. Liven up your place with these intriguing paintings that are high definition hd graphic digital prints for home, office or any room.</th>\n",
              "    </tr>\n",
              "  </thead>\n",
              "  <tbody>\n",
              "    <tr>\n",
              "      <th>0</th>\n",
              "      <td>Household</td>\n",
              "      <td>SAF 'Floral' Framed Painting (Wood, 30 inch x ...</td>\n",
              "    </tr>\n",
              "    <tr>\n",
              "      <th>1</th>\n",
              "      <td>Household</td>\n",
              "      <td>SAF 'UV Textured Modern Art Print Framed' Pain...</td>\n",
              "    </tr>\n",
              "    <tr>\n",
              "      <th>2</th>\n",
              "      <td>Household</td>\n",
              "      <td>SAF Flower Print Framed Painting (Synthetic, 1...</td>\n",
              "    </tr>\n",
              "    <tr>\n",
              "      <th>3</th>\n",
              "      <td>Household</td>\n",
              "      <td>Incredible Gifts India Wooden Happy Birthday U...</td>\n",
              "    </tr>\n",
              "    <tr>\n",
              "      <th>4</th>\n",
              "      <td>Household</td>\n",
              "      <td>Pitaara Box Romantic Venice Canvas Painting 6m...</td>\n",
              "    </tr>\n",
              "    <tr>\n",
              "      <th>...</th>\n",
              "      <td>...</td>\n",
              "      <td>...</td>\n",
              "    </tr>\n",
              "    <tr>\n",
              "      <th>50419</th>\n",
              "      <td>Electronics</td>\n",
              "      <td>Strontium MicroSD Class 10 8GB Memory Card (Bl...</td>\n",
              "    </tr>\n",
              "    <tr>\n",
              "      <th>50420</th>\n",
              "      <td>Electronics</td>\n",
              "      <td>CrossBeats Wave Waterproof Bluetooth Wireless ...</td>\n",
              "    </tr>\n",
              "    <tr>\n",
              "      <th>50421</th>\n",
              "      <td>Electronics</td>\n",
              "      <td>Karbonn Titanium Wind W4 (White) Karbonn Titan...</td>\n",
              "    </tr>\n",
              "    <tr>\n",
              "      <th>50422</th>\n",
              "      <td>Electronics</td>\n",
              "      <td>Samsung Guru FM Plus (SM-B110E/D, Black) Colou...</td>\n",
              "    </tr>\n",
              "    <tr>\n",
              "      <th>50423</th>\n",
              "      <td>Electronics</td>\n",
              "      <td>Micromax Canvas Win W121 (White)</td>\n",
              "    </tr>\n",
              "  </tbody>\n",
              "</table>\n",
              "<p>50424 rows × 2 columns</p>\n",
              "</div>\n",
              "      <button class=\"colab-df-convert\" onclick=\"convertToInteractive('df-8029fcc2-6d80-4613-9640-cf46e3c53479')\"\n",
              "              title=\"Convert this dataframe to an interactive table.\"\n",
              "              style=\"display:none;\">\n",
              "        \n",
              "  <svg xmlns=\"http://www.w3.org/2000/svg\" height=\"24px\"viewBox=\"0 0 24 24\"\n",
              "       width=\"24px\">\n",
              "    <path d=\"M0 0h24v24H0V0z\" fill=\"none\"/>\n",
              "    <path d=\"M18.56 5.44l.94 2.06.94-2.06 2.06-.94-2.06-.94-.94-2.06-.94 2.06-2.06.94zm-11 1L8.5 8.5l.94-2.06 2.06-.94-2.06-.94L8.5 2.5l-.94 2.06-2.06.94zm10 10l.94 2.06.94-2.06 2.06-.94-2.06-.94-.94-2.06-.94 2.06-2.06.94z\"/><path d=\"M17.41 7.96l-1.37-1.37c-.4-.4-.92-.59-1.43-.59-.52 0-1.04.2-1.43.59L10.3 9.45l-7.72 7.72c-.78.78-.78 2.05 0 2.83L4 21.41c.39.39.9.59 1.41.59.51 0 1.02-.2 1.41-.59l7.78-7.78 2.81-2.81c.8-.78.8-2.07 0-2.86zM5.41 20L4 18.59l7.72-7.72 1.47 1.35L5.41 20z\"/>\n",
              "  </svg>\n",
              "      </button>\n",
              "      \n",
              "  <style>\n",
              "    .colab-df-container {\n",
              "      display:flex;\n",
              "      flex-wrap:wrap;\n",
              "      gap: 12px;\n",
              "    }\n",
              "\n",
              "    .colab-df-convert {\n",
              "      background-color: #E8F0FE;\n",
              "      border: none;\n",
              "      border-radius: 50%;\n",
              "      cursor: pointer;\n",
              "      display: none;\n",
              "      fill: #1967D2;\n",
              "      height: 32px;\n",
              "      padding: 0 0 0 0;\n",
              "      width: 32px;\n",
              "    }\n",
              "\n",
              "    .colab-df-convert:hover {\n",
              "      background-color: #E2EBFA;\n",
              "      box-shadow: 0px 1px 2px rgba(60, 64, 67, 0.3), 0px 1px 3px 1px rgba(60, 64, 67, 0.15);\n",
              "      fill: #174EA6;\n",
              "    }\n",
              "\n",
              "    [theme=dark] .colab-df-convert {\n",
              "      background-color: #3B4455;\n",
              "      fill: #D2E3FC;\n",
              "    }\n",
              "\n",
              "    [theme=dark] .colab-df-convert:hover {\n",
              "      background-color: #434B5C;\n",
              "      box-shadow: 0px 1px 3px 1px rgba(0, 0, 0, 0.15);\n",
              "      filter: drop-shadow(0px 1px 2px rgba(0, 0, 0, 0.3));\n",
              "      fill: #FFFFFF;\n",
              "    }\n",
              "  </style>\n",
              "\n",
              "      <script>\n",
              "        const buttonEl =\n",
              "          document.querySelector('#df-8029fcc2-6d80-4613-9640-cf46e3c53479 button.colab-df-convert');\n",
              "        buttonEl.style.display =\n",
              "          google.colab.kernel.accessAllowed ? 'block' : 'none';\n",
              "\n",
              "        async function convertToInteractive(key) {\n",
              "          const element = document.querySelector('#df-8029fcc2-6d80-4613-9640-cf46e3c53479');\n",
              "          const dataTable =\n",
              "            await google.colab.kernel.invokeFunction('convertToInteractive',\n",
              "                                                     [key], {});\n",
              "          if (!dataTable) return;\n",
              "\n",
              "          const docLinkHtml = 'Like what you see? Visit the ' +\n",
              "            '<a target=\"_blank\" href=https://colab.research.google.com/notebooks/data_table.ipynb>data table notebook</a>'\n",
              "            + ' to learn more about interactive tables.';\n",
              "          element.innerHTML = '';\n",
              "          dataTable['output_type'] = 'display_data';\n",
              "          await google.colab.output.renderOutput(dataTable, element);\n",
              "          const docLink = document.createElement('div');\n",
              "          docLink.innerHTML = docLinkHtml;\n",
              "          element.appendChild(docLink);\n",
              "        }\n",
              "      </script>\n",
              "    </div>\n",
              "  </div>\n",
              "  "
            ]
          },
          "metadata": {},
          "execution_count": 3
        }
      ]
    },
    {
      "cell_type": "code",
      "source": [
        "df.columns = ['Category','Text']"
      ],
      "metadata": {
        "id": "GbBz55tyyWyC"
      },
      "execution_count": null,
      "outputs": []
    },
    {
      "cell_type": "code",
      "source": [],
      "metadata": {
        "id": "sEKGdv8SQUQW",
        "colab": {
          "base_uri": "https://localhost:8080/",
          "height": 311
        },
        "outputId": "77992296-417d-43fe-a7d9-da6a51b665ee"
      },
      "execution_count": null,
      "outputs": [
        {
          "output_type": "error",
          "ename": "KeyError",
          "evalue": "ignored",
          "traceback": [
            "\u001b[0;31m---------------------------------------------------------------------------\u001b[0m",
            "\u001b[0;31mKeyError\u001b[0m                                  Traceback (most recent call last)",
            "\u001b[0;32m<ipython-input-5-d188f070c3b9>\u001b[0m in \u001b[0;36m<module>\u001b[0;34m\u001b[0m\n\u001b[0;32m----> 1\u001b[0;31m \u001b[0mdf\u001b[0m\u001b[0;34m=\u001b[0m\u001b[0mdf\u001b[0m\u001b[0;34m.\u001b[0m\u001b[0mdrop\u001b[0m\u001b[0;34m(\u001b[0m\u001b[0;34m'Unnamed: 2'\u001b[0m\u001b[0;34m,\u001b[0m\u001b[0maxis\u001b[0m\u001b[0;34m=\u001b[0m\u001b[0;36m1\u001b[0m\u001b[0;34m)\u001b[0m\u001b[0;34m\u001b[0m\u001b[0;34m\u001b[0m\u001b[0m\n\u001b[0m",
            "\u001b[0;32m/usr/local/lib/python3.7/dist-packages/pandas/util/_decorators.py\u001b[0m in \u001b[0;36mwrapper\u001b[0;34m(*args, **kwargs)\u001b[0m\n\u001b[1;32m    309\u001b[0m                     \u001b[0mstacklevel\u001b[0m\u001b[0;34m=\u001b[0m\u001b[0mstacklevel\u001b[0m\u001b[0;34m,\u001b[0m\u001b[0;34m\u001b[0m\u001b[0;34m\u001b[0m\u001b[0m\n\u001b[1;32m    310\u001b[0m                 )\n\u001b[0;32m--> 311\u001b[0;31m             \u001b[0;32mreturn\u001b[0m \u001b[0mfunc\u001b[0m\u001b[0;34m(\u001b[0m\u001b[0;34m*\u001b[0m\u001b[0margs\u001b[0m\u001b[0;34m,\u001b[0m \u001b[0;34m**\u001b[0m\u001b[0mkwargs\u001b[0m\u001b[0;34m)\u001b[0m\u001b[0;34m\u001b[0m\u001b[0;34m\u001b[0m\u001b[0m\n\u001b[0m\u001b[1;32m    312\u001b[0m \u001b[0;34m\u001b[0m\u001b[0m\n\u001b[1;32m    313\u001b[0m         \u001b[0;32mreturn\u001b[0m \u001b[0mwrapper\u001b[0m\u001b[0;34m\u001b[0m\u001b[0;34m\u001b[0m\u001b[0m\n",
            "\u001b[0;32m/usr/local/lib/python3.7/dist-packages/pandas/core/frame.py\u001b[0m in \u001b[0;36mdrop\u001b[0;34m(self, labels, axis, index, columns, level, inplace, errors)\u001b[0m\n\u001b[1;32m   4911\u001b[0m             \u001b[0mlevel\u001b[0m\u001b[0;34m=\u001b[0m\u001b[0mlevel\u001b[0m\u001b[0;34m,\u001b[0m\u001b[0;34m\u001b[0m\u001b[0;34m\u001b[0m\u001b[0m\n\u001b[1;32m   4912\u001b[0m             \u001b[0minplace\u001b[0m\u001b[0;34m=\u001b[0m\u001b[0minplace\u001b[0m\u001b[0;34m,\u001b[0m\u001b[0;34m\u001b[0m\u001b[0;34m\u001b[0m\u001b[0m\n\u001b[0;32m-> 4913\u001b[0;31m             \u001b[0merrors\u001b[0m\u001b[0;34m=\u001b[0m\u001b[0merrors\u001b[0m\u001b[0;34m,\u001b[0m\u001b[0;34m\u001b[0m\u001b[0;34m\u001b[0m\u001b[0m\n\u001b[0m\u001b[1;32m   4914\u001b[0m         )\n\u001b[1;32m   4915\u001b[0m \u001b[0;34m\u001b[0m\u001b[0m\n",
            "\u001b[0;32m/usr/local/lib/python3.7/dist-packages/pandas/core/generic.py\u001b[0m in \u001b[0;36mdrop\u001b[0;34m(self, labels, axis, index, columns, level, inplace, errors)\u001b[0m\n\u001b[1;32m   4148\u001b[0m         \u001b[0;32mfor\u001b[0m \u001b[0maxis\u001b[0m\u001b[0;34m,\u001b[0m \u001b[0mlabels\u001b[0m \u001b[0;32min\u001b[0m \u001b[0maxes\u001b[0m\u001b[0;34m.\u001b[0m\u001b[0mitems\u001b[0m\u001b[0;34m(\u001b[0m\u001b[0;34m)\u001b[0m\u001b[0;34m:\u001b[0m\u001b[0;34m\u001b[0m\u001b[0;34m\u001b[0m\u001b[0m\n\u001b[1;32m   4149\u001b[0m             \u001b[0;32mif\u001b[0m \u001b[0mlabels\u001b[0m \u001b[0;32mis\u001b[0m \u001b[0;32mnot\u001b[0m \u001b[0;32mNone\u001b[0m\u001b[0;34m:\u001b[0m\u001b[0;34m\u001b[0m\u001b[0;34m\u001b[0m\u001b[0m\n\u001b[0;32m-> 4150\u001b[0;31m                 \u001b[0mobj\u001b[0m \u001b[0;34m=\u001b[0m \u001b[0mobj\u001b[0m\u001b[0;34m.\u001b[0m\u001b[0m_drop_axis\u001b[0m\u001b[0;34m(\u001b[0m\u001b[0mlabels\u001b[0m\u001b[0;34m,\u001b[0m \u001b[0maxis\u001b[0m\u001b[0;34m,\u001b[0m \u001b[0mlevel\u001b[0m\u001b[0;34m=\u001b[0m\u001b[0mlevel\u001b[0m\u001b[0;34m,\u001b[0m \u001b[0merrors\u001b[0m\u001b[0;34m=\u001b[0m\u001b[0merrors\u001b[0m\u001b[0;34m)\u001b[0m\u001b[0;34m\u001b[0m\u001b[0;34m\u001b[0m\u001b[0m\n\u001b[0m\u001b[1;32m   4151\u001b[0m \u001b[0;34m\u001b[0m\u001b[0m\n\u001b[1;32m   4152\u001b[0m         \u001b[0;32mif\u001b[0m \u001b[0minplace\u001b[0m\u001b[0;34m:\u001b[0m\u001b[0;34m\u001b[0m\u001b[0;34m\u001b[0m\u001b[0m\n",
            "\u001b[0;32m/usr/local/lib/python3.7/dist-packages/pandas/core/generic.py\u001b[0m in \u001b[0;36m_drop_axis\u001b[0;34m(self, labels, axis, level, errors)\u001b[0m\n\u001b[1;32m   4183\u001b[0m                 \u001b[0mnew_axis\u001b[0m \u001b[0;34m=\u001b[0m \u001b[0maxis\u001b[0m\u001b[0;34m.\u001b[0m\u001b[0mdrop\u001b[0m\u001b[0;34m(\u001b[0m\u001b[0mlabels\u001b[0m\u001b[0;34m,\u001b[0m \u001b[0mlevel\u001b[0m\u001b[0;34m=\u001b[0m\u001b[0mlevel\u001b[0m\u001b[0;34m,\u001b[0m \u001b[0merrors\u001b[0m\u001b[0;34m=\u001b[0m\u001b[0merrors\u001b[0m\u001b[0;34m)\u001b[0m\u001b[0;34m\u001b[0m\u001b[0;34m\u001b[0m\u001b[0m\n\u001b[1;32m   4184\u001b[0m             \u001b[0;32melse\u001b[0m\u001b[0;34m:\u001b[0m\u001b[0;34m\u001b[0m\u001b[0;34m\u001b[0m\u001b[0m\n\u001b[0;32m-> 4185\u001b[0;31m                 \u001b[0mnew_axis\u001b[0m \u001b[0;34m=\u001b[0m \u001b[0maxis\u001b[0m\u001b[0;34m.\u001b[0m\u001b[0mdrop\u001b[0m\u001b[0;34m(\u001b[0m\u001b[0mlabels\u001b[0m\u001b[0;34m,\u001b[0m \u001b[0merrors\u001b[0m\u001b[0;34m=\u001b[0m\u001b[0merrors\u001b[0m\u001b[0;34m)\u001b[0m\u001b[0;34m\u001b[0m\u001b[0;34m\u001b[0m\u001b[0m\n\u001b[0m\u001b[1;32m   4186\u001b[0m             \u001b[0mresult\u001b[0m \u001b[0;34m=\u001b[0m \u001b[0mself\u001b[0m\u001b[0;34m.\u001b[0m\u001b[0mreindex\u001b[0m\u001b[0;34m(\u001b[0m\u001b[0;34m**\u001b[0m\u001b[0;34m{\u001b[0m\u001b[0maxis_name\u001b[0m\u001b[0;34m:\u001b[0m \u001b[0mnew_axis\u001b[0m\u001b[0;34m}\u001b[0m\u001b[0;34m)\u001b[0m\u001b[0;34m\u001b[0m\u001b[0;34m\u001b[0m\u001b[0m\n\u001b[1;32m   4187\u001b[0m \u001b[0;34m\u001b[0m\u001b[0m\n",
            "\u001b[0;32m/usr/local/lib/python3.7/dist-packages/pandas/core/indexes/base.py\u001b[0m in \u001b[0;36mdrop\u001b[0;34m(self, labels, errors)\u001b[0m\n\u001b[1;32m   6015\u001b[0m         \u001b[0;32mif\u001b[0m \u001b[0mmask\u001b[0m\u001b[0;34m.\u001b[0m\u001b[0many\u001b[0m\u001b[0;34m(\u001b[0m\u001b[0;34m)\u001b[0m\u001b[0;34m:\u001b[0m\u001b[0;34m\u001b[0m\u001b[0;34m\u001b[0m\u001b[0m\n\u001b[1;32m   6016\u001b[0m             \u001b[0;32mif\u001b[0m \u001b[0merrors\u001b[0m \u001b[0;34m!=\u001b[0m \u001b[0;34m\"ignore\"\u001b[0m\u001b[0;34m:\u001b[0m\u001b[0;34m\u001b[0m\u001b[0;34m\u001b[0m\u001b[0m\n\u001b[0;32m-> 6017\u001b[0;31m                 \u001b[0;32mraise\u001b[0m \u001b[0mKeyError\u001b[0m\u001b[0;34m(\u001b[0m\u001b[0;34mf\"{labels[mask]} not found in axis\"\u001b[0m\u001b[0;34m)\u001b[0m\u001b[0;34m\u001b[0m\u001b[0;34m\u001b[0m\u001b[0m\n\u001b[0m\u001b[1;32m   6018\u001b[0m             \u001b[0mindexer\u001b[0m \u001b[0;34m=\u001b[0m \u001b[0mindexer\u001b[0m\u001b[0;34m[\u001b[0m\u001b[0;34m~\u001b[0m\u001b[0mmask\u001b[0m\u001b[0;34m]\u001b[0m\u001b[0;34m\u001b[0m\u001b[0;34m\u001b[0m\u001b[0m\n\u001b[1;32m   6019\u001b[0m         \u001b[0;32mreturn\u001b[0m \u001b[0mself\u001b[0m\u001b[0;34m.\u001b[0m\u001b[0mdelete\u001b[0m\u001b[0;34m(\u001b[0m\u001b[0mindexer\u001b[0m\u001b[0;34m)\u001b[0m\u001b[0;34m\u001b[0m\u001b[0;34m\u001b[0m\u001b[0m\n",
            "\u001b[0;31mKeyError\u001b[0m: \"['Unnamed: 2'] not found in axis\""
          ]
        }
      ]
    },
    {
      "cell_type": "code",
      "source": [
        "df"
      ],
      "metadata": {
        "colab": {
          "base_uri": "https://localhost:8080/",
          "height": 424
        },
        "id": "zNh9xbEdSe2X",
        "outputId": "fe8c3d4b-2911-45a8-c944-d807e2882c10"
      },
      "execution_count": null,
      "outputs": [
        {
          "output_type": "execute_result",
          "data": {
            "text/plain": [
              "          Category                                               Text\n",
              "0        Household  SAF 'Floral' Framed Painting (Wood, 30 inch x ...\n",
              "1        Household  SAF 'UV Textured Modern Art Print Framed' Pain...\n",
              "2        Household  SAF Flower Print Framed Painting (Synthetic, 1...\n",
              "3        Household  Incredible Gifts India Wooden Happy Birthday U...\n",
              "4        Household  Pitaara Box Romantic Venice Canvas Painting 6m...\n",
              "...            ...                                                ...\n",
              "50419  Electronics  Strontium MicroSD Class 10 8GB Memory Card (Bl...\n",
              "50420  Electronics  CrossBeats Wave Waterproof Bluetooth Wireless ...\n",
              "50421  Electronics  Karbonn Titanium Wind W4 (White) Karbonn Titan...\n",
              "50422  Electronics  Samsung Guru FM Plus (SM-B110E/D, Black) Colou...\n",
              "50423  Electronics                   Micromax Canvas Win W121 (White)\n",
              "\n",
              "[50424 rows x 2 columns]"
            ],
            "text/html": [
              "\n",
              "  <div id=\"df-345576f0-048b-44b9-91ed-128f8818d674\">\n",
              "    <div class=\"colab-df-container\">\n",
              "      <div>\n",
              "<style scoped>\n",
              "    .dataframe tbody tr th:only-of-type {\n",
              "        vertical-align: middle;\n",
              "    }\n",
              "\n",
              "    .dataframe tbody tr th {\n",
              "        vertical-align: top;\n",
              "    }\n",
              "\n",
              "    .dataframe thead th {\n",
              "        text-align: right;\n",
              "    }\n",
              "</style>\n",
              "<table border=\"1\" class=\"dataframe\">\n",
              "  <thead>\n",
              "    <tr style=\"text-align: right;\">\n",
              "      <th></th>\n",
              "      <th>Category</th>\n",
              "      <th>Text</th>\n",
              "    </tr>\n",
              "  </thead>\n",
              "  <tbody>\n",
              "    <tr>\n",
              "      <th>0</th>\n",
              "      <td>Household</td>\n",
              "      <td>SAF 'Floral' Framed Painting (Wood, 30 inch x ...</td>\n",
              "    </tr>\n",
              "    <tr>\n",
              "      <th>1</th>\n",
              "      <td>Household</td>\n",
              "      <td>SAF 'UV Textured Modern Art Print Framed' Pain...</td>\n",
              "    </tr>\n",
              "    <tr>\n",
              "      <th>2</th>\n",
              "      <td>Household</td>\n",
              "      <td>SAF Flower Print Framed Painting (Synthetic, 1...</td>\n",
              "    </tr>\n",
              "    <tr>\n",
              "      <th>3</th>\n",
              "      <td>Household</td>\n",
              "      <td>Incredible Gifts India Wooden Happy Birthday U...</td>\n",
              "    </tr>\n",
              "    <tr>\n",
              "      <th>4</th>\n",
              "      <td>Household</td>\n",
              "      <td>Pitaara Box Romantic Venice Canvas Painting 6m...</td>\n",
              "    </tr>\n",
              "    <tr>\n",
              "      <th>...</th>\n",
              "      <td>...</td>\n",
              "      <td>...</td>\n",
              "    </tr>\n",
              "    <tr>\n",
              "      <th>50419</th>\n",
              "      <td>Electronics</td>\n",
              "      <td>Strontium MicroSD Class 10 8GB Memory Card (Bl...</td>\n",
              "    </tr>\n",
              "    <tr>\n",
              "      <th>50420</th>\n",
              "      <td>Electronics</td>\n",
              "      <td>CrossBeats Wave Waterproof Bluetooth Wireless ...</td>\n",
              "    </tr>\n",
              "    <tr>\n",
              "      <th>50421</th>\n",
              "      <td>Electronics</td>\n",
              "      <td>Karbonn Titanium Wind W4 (White) Karbonn Titan...</td>\n",
              "    </tr>\n",
              "    <tr>\n",
              "      <th>50422</th>\n",
              "      <td>Electronics</td>\n",
              "      <td>Samsung Guru FM Plus (SM-B110E/D, Black) Colou...</td>\n",
              "    </tr>\n",
              "    <tr>\n",
              "      <th>50423</th>\n",
              "      <td>Electronics</td>\n",
              "      <td>Micromax Canvas Win W121 (White)</td>\n",
              "    </tr>\n",
              "  </tbody>\n",
              "</table>\n",
              "<p>50424 rows × 2 columns</p>\n",
              "</div>\n",
              "      <button class=\"colab-df-convert\" onclick=\"convertToInteractive('df-345576f0-048b-44b9-91ed-128f8818d674')\"\n",
              "              title=\"Convert this dataframe to an interactive table.\"\n",
              "              style=\"display:none;\">\n",
              "        \n",
              "  <svg xmlns=\"http://www.w3.org/2000/svg\" height=\"24px\"viewBox=\"0 0 24 24\"\n",
              "       width=\"24px\">\n",
              "    <path d=\"M0 0h24v24H0V0z\" fill=\"none\"/>\n",
              "    <path d=\"M18.56 5.44l.94 2.06.94-2.06 2.06-.94-2.06-.94-.94-2.06-.94 2.06-2.06.94zm-11 1L8.5 8.5l.94-2.06 2.06-.94-2.06-.94L8.5 2.5l-.94 2.06-2.06.94zm10 10l.94 2.06.94-2.06 2.06-.94-2.06-.94-.94-2.06-.94 2.06-2.06.94z\"/><path d=\"M17.41 7.96l-1.37-1.37c-.4-.4-.92-.59-1.43-.59-.52 0-1.04.2-1.43.59L10.3 9.45l-7.72 7.72c-.78.78-.78 2.05 0 2.83L4 21.41c.39.39.9.59 1.41.59.51 0 1.02-.2 1.41-.59l7.78-7.78 2.81-2.81c.8-.78.8-2.07 0-2.86zM5.41 20L4 18.59l7.72-7.72 1.47 1.35L5.41 20z\"/>\n",
              "  </svg>\n",
              "      </button>\n",
              "      \n",
              "  <style>\n",
              "    .colab-df-container {\n",
              "      display:flex;\n",
              "      flex-wrap:wrap;\n",
              "      gap: 12px;\n",
              "    }\n",
              "\n",
              "    .colab-df-convert {\n",
              "      background-color: #E8F0FE;\n",
              "      border: none;\n",
              "      border-radius: 50%;\n",
              "      cursor: pointer;\n",
              "      display: none;\n",
              "      fill: #1967D2;\n",
              "      height: 32px;\n",
              "      padding: 0 0 0 0;\n",
              "      width: 32px;\n",
              "    }\n",
              "\n",
              "    .colab-df-convert:hover {\n",
              "      background-color: #E2EBFA;\n",
              "      box-shadow: 0px 1px 2px rgba(60, 64, 67, 0.3), 0px 1px 3px 1px rgba(60, 64, 67, 0.15);\n",
              "      fill: #174EA6;\n",
              "    }\n",
              "\n",
              "    [theme=dark] .colab-df-convert {\n",
              "      background-color: #3B4455;\n",
              "      fill: #D2E3FC;\n",
              "    }\n",
              "\n",
              "    [theme=dark] .colab-df-convert:hover {\n",
              "      background-color: #434B5C;\n",
              "      box-shadow: 0px 1px 3px 1px rgba(0, 0, 0, 0.15);\n",
              "      filter: drop-shadow(0px 1px 2px rgba(0, 0, 0, 0.3));\n",
              "      fill: #FFFFFF;\n",
              "    }\n",
              "  </style>\n",
              "\n",
              "      <script>\n",
              "        const buttonEl =\n",
              "          document.querySelector('#df-345576f0-048b-44b9-91ed-128f8818d674 button.colab-df-convert');\n",
              "        buttonEl.style.display =\n",
              "          google.colab.kernel.accessAllowed ? 'block' : 'none';\n",
              "\n",
              "        async function convertToInteractive(key) {\n",
              "          const element = document.querySelector('#df-345576f0-048b-44b9-91ed-128f8818d674');\n",
              "          const dataTable =\n",
              "            await google.colab.kernel.invokeFunction('convertToInteractive',\n",
              "                                                     [key], {});\n",
              "          if (!dataTable) return;\n",
              "\n",
              "          const docLinkHtml = 'Like what you see? Visit the ' +\n",
              "            '<a target=\"_blank\" href=https://colab.research.google.com/notebooks/data_table.ipynb>data table notebook</a>'\n",
              "            + ' to learn more about interactive tables.';\n",
              "          element.innerHTML = '';\n",
              "          dataTable['output_type'] = 'display_data';\n",
              "          await google.colab.output.renderOutput(dataTable, element);\n",
              "          const docLink = document.createElement('div');\n",
              "          docLink.innerHTML = docLinkHtml;\n",
              "          element.appendChild(docLink);\n",
              "        }\n",
              "      </script>\n",
              "    </div>\n",
              "  </div>\n",
              "  "
            ]
          },
          "metadata": {},
          "execution_count": 6
        }
      ]
    },
    {
      "cell_type": "code",
      "source": [
        "df = df[['Category', 'Text']]\n",
        "df = df.astype('str').applymap(str.lower)\n",
        "df = df.applymap(str.strip).replace(r\"[^a-z0-9 ]+\", \"\")\n",
        "df = df.dropna()\n",
        "df = df.drop_duplicates()"
      ],
      "metadata": {
        "id": "QVWGLW6wS5AX"
      },
      "execution_count": null,
      "outputs": []
    },
    {
      "cell_type": "code",
      "source": [
        "df"
      ],
      "metadata": {
        "colab": {
          "base_uri": "https://localhost:8080/",
          "height": 424
        },
        "id": "1UXPKke4TRlY",
        "outputId": "7c02aaac-5aff-4c3a-e5d5-bb96e85dfc47"
      },
      "execution_count": null,
      "outputs": [
        {
          "output_type": "execute_result",
          "data": {
            "text/plain": [
              "          Category                                               Text\n",
              "0        household  saf 'floral' framed painting (wood, 30 inch x ...\n",
              "1        household  saf 'uv textured modern art print framed' pain...\n",
              "2        household  saf flower print framed painting (synthetic, 1...\n",
              "3        household  incredible gifts india wooden happy birthday u...\n",
              "4        household  pitaara box romantic venice canvas painting 6m...\n",
              "...            ...                                                ...\n",
              "50401  electronics  micromax bharat 5 plus zero impact on visual d...\n",
              "50402  electronics  microsoft lumia 550 8gb 4g black microsoft lum...\n",
              "50406  electronics  microsoft lumia 535 (black, 8gb) colour:black ...\n",
              "50407  electronics  karbonn titanium wind w4 (white) karbonn titan...\n",
              "50409  electronics  nokia lumia 530 (dual sim, grey) colour:grey  ...\n",
              "\n",
              "[27754 rows x 2 columns]"
            ],
            "text/html": [
              "\n",
              "  <div id=\"df-0777648d-6f3b-4820-8eec-52f01e1fa666\">\n",
              "    <div class=\"colab-df-container\">\n",
              "      <div>\n",
              "<style scoped>\n",
              "    .dataframe tbody tr th:only-of-type {\n",
              "        vertical-align: middle;\n",
              "    }\n",
              "\n",
              "    .dataframe tbody tr th {\n",
              "        vertical-align: top;\n",
              "    }\n",
              "\n",
              "    .dataframe thead th {\n",
              "        text-align: right;\n",
              "    }\n",
              "</style>\n",
              "<table border=\"1\" class=\"dataframe\">\n",
              "  <thead>\n",
              "    <tr style=\"text-align: right;\">\n",
              "      <th></th>\n",
              "      <th>Category</th>\n",
              "      <th>Text</th>\n",
              "    </tr>\n",
              "  </thead>\n",
              "  <tbody>\n",
              "    <tr>\n",
              "      <th>0</th>\n",
              "      <td>household</td>\n",
              "      <td>saf 'floral' framed painting (wood, 30 inch x ...</td>\n",
              "    </tr>\n",
              "    <tr>\n",
              "      <th>1</th>\n",
              "      <td>household</td>\n",
              "      <td>saf 'uv textured modern art print framed' pain...</td>\n",
              "    </tr>\n",
              "    <tr>\n",
              "      <th>2</th>\n",
              "      <td>household</td>\n",
              "      <td>saf flower print framed painting (synthetic, 1...</td>\n",
              "    </tr>\n",
              "    <tr>\n",
              "      <th>3</th>\n",
              "      <td>household</td>\n",
              "      <td>incredible gifts india wooden happy birthday u...</td>\n",
              "    </tr>\n",
              "    <tr>\n",
              "      <th>4</th>\n",
              "      <td>household</td>\n",
              "      <td>pitaara box romantic venice canvas painting 6m...</td>\n",
              "    </tr>\n",
              "    <tr>\n",
              "      <th>...</th>\n",
              "      <td>...</td>\n",
              "      <td>...</td>\n",
              "    </tr>\n",
              "    <tr>\n",
              "      <th>50401</th>\n",
              "      <td>electronics</td>\n",
              "      <td>micromax bharat 5 plus zero impact on visual d...</td>\n",
              "    </tr>\n",
              "    <tr>\n",
              "      <th>50402</th>\n",
              "      <td>electronics</td>\n",
              "      <td>microsoft lumia 550 8gb 4g black microsoft lum...</td>\n",
              "    </tr>\n",
              "    <tr>\n",
              "      <th>50406</th>\n",
              "      <td>electronics</td>\n",
              "      <td>microsoft lumia 535 (black, 8gb) colour:black ...</td>\n",
              "    </tr>\n",
              "    <tr>\n",
              "      <th>50407</th>\n",
              "      <td>electronics</td>\n",
              "      <td>karbonn titanium wind w4 (white) karbonn titan...</td>\n",
              "    </tr>\n",
              "    <tr>\n",
              "      <th>50409</th>\n",
              "      <td>electronics</td>\n",
              "      <td>nokia lumia 530 (dual sim, grey) colour:grey  ...</td>\n",
              "    </tr>\n",
              "  </tbody>\n",
              "</table>\n",
              "<p>27754 rows × 2 columns</p>\n",
              "</div>\n",
              "      <button class=\"colab-df-convert\" onclick=\"convertToInteractive('df-0777648d-6f3b-4820-8eec-52f01e1fa666')\"\n",
              "              title=\"Convert this dataframe to an interactive table.\"\n",
              "              style=\"display:none;\">\n",
              "        \n",
              "  <svg xmlns=\"http://www.w3.org/2000/svg\" height=\"24px\"viewBox=\"0 0 24 24\"\n",
              "       width=\"24px\">\n",
              "    <path d=\"M0 0h24v24H0V0z\" fill=\"none\"/>\n",
              "    <path d=\"M18.56 5.44l.94 2.06.94-2.06 2.06-.94-2.06-.94-.94-2.06-.94 2.06-2.06.94zm-11 1L8.5 8.5l.94-2.06 2.06-.94-2.06-.94L8.5 2.5l-.94 2.06-2.06.94zm10 10l.94 2.06.94-2.06 2.06-.94-2.06-.94-.94-2.06-.94 2.06-2.06.94z\"/><path d=\"M17.41 7.96l-1.37-1.37c-.4-.4-.92-.59-1.43-.59-.52 0-1.04.2-1.43.59L10.3 9.45l-7.72 7.72c-.78.78-.78 2.05 0 2.83L4 21.41c.39.39.9.59 1.41.59.51 0 1.02-.2 1.41-.59l7.78-7.78 2.81-2.81c.8-.78.8-2.07 0-2.86zM5.41 20L4 18.59l7.72-7.72 1.47 1.35L5.41 20z\"/>\n",
              "  </svg>\n",
              "      </button>\n",
              "      \n",
              "  <style>\n",
              "    .colab-df-container {\n",
              "      display:flex;\n",
              "      flex-wrap:wrap;\n",
              "      gap: 12px;\n",
              "    }\n",
              "\n",
              "    .colab-df-convert {\n",
              "      background-color: #E8F0FE;\n",
              "      border: none;\n",
              "      border-radius: 50%;\n",
              "      cursor: pointer;\n",
              "      display: none;\n",
              "      fill: #1967D2;\n",
              "      height: 32px;\n",
              "      padding: 0 0 0 0;\n",
              "      width: 32px;\n",
              "    }\n",
              "\n",
              "    .colab-df-convert:hover {\n",
              "      background-color: #E2EBFA;\n",
              "      box-shadow: 0px 1px 2px rgba(60, 64, 67, 0.3), 0px 1px 3px 1px rgba(60, 64, 67, 0.15);\n",
              "      fill: #174EA6;\n",
              "    }\n",
              "\n",
              "    [theme=dark] .colab-df-convert {\n",
              "      background-color: #3B4455;\n",
              "      fill: #D2E3FC;\n",
              "    }\n",
              "\n",
              "    [theme=dark] .colab-df-convert:hover {\n",
              "      background-color: #434B5C;\n",
              "      box-shadow: 0px 1px 3px 1px rgba(0, 0, 0, 0.15);\n",
              "      filter: drop-shadow(0px 1px 2px rgba(0, 0, 0, 0.3));\n",
              "      fill: #FFFFFF;\n",
              "    }\n",
              "  </style>\n",
              "\n",
              "      <script>\n",
              "        const buttonEl =\n",
              "          document.querySelector('#df-0777648d-6f3b-4820-8eec-52f01e1fa666 button.colab-df-convert');\n",
              "        buttonEl.style.display =\n",
              "          google.colab.kernel.accessAllowed ? 'block' : 'none';\n",
              "\n",
              "        async function convertToInteractive(key) {\n",
              "          const element = document.querySelector('#df-0777648d-6f3b-4820-8eec-52f01e1fa666');\n",
              "          const dataTable =\n",
              "            await google.colab.kernel.invokeFunction('convertToInteractive',\n",
              "                                                     [key], {});\n",
              "          if (!dataTable) return;\n",
              "\n",
              "          const docLinkHtml = 'Like what you see? Visit the ' +\n",
              "            '<a target=\"_blank\" href=https://colab.research.google.com/notebooks/data_table.ipynb>data table notebook</a>'\n",
              "            + ' to learn more about interactive tables.';\n",
              "          element.innerHTML = '';\n",
              "          dataTable['output_type'] = 'display_data';\n",
              "          await google.colab.output.renderOutput(dataTable, element);\n",
              "          const docLink = document.createElement('div');\n",
              "          docLink.innerHTML = docLinkHtml;\n",
              "          element.appendChild(docLink);\n",
              "        }\n",
              "      </script>\n",
              "    </div>\n",
              "  </div>\n",
              "  "
            ]
          },
          "metadata": {},
          "execution_count": 8
        }
      ]
    },
    {
      "cell_type": "code",
      "source": [],
      "metadata": {
        "id": "_TKIADpc39Wl"
      },
      "execution_count": null,
      "outputs": []
    },
    {
      "cell_type": "code",
      "source": [
        "df['Text']"
      ],
      "metadata": {
        "colab": {
          "base_uri": "https://localhost:8080/"
        },
        "id": "gIp8rqOlZ547",
        "outputId": "a8949e2c-d065-496d-c743-d0a931958498"
      },
      "execution_count": null,
      "outputs": [
        {
          "output_type": "execute_result",
          "data": {
            "text/plain": [
              "0        saf 'floral' framed painting (wood, 30 inch x ...\n",
              "1        saf 'uv textured modern art print framed' pain...\n",
              "2        saf flower print framed painting (synthetic, 1...\n",
              "3        incredible gifts india wooden happy birthday u...\n",
              "4        pitaara box romantic venice canvas painting 6m...\n",
              "                               ...                        \n",
              "50401    micromax bharat 5 plus zero impact on visual d...\n",
              "50402    microsoft lumia 550 8gb 4g black microsoft lum...\n",
              "50406    microsoft lumia 535 (black, 8gb) colour:black ...\n",
              "50407    karbonn titanium wind w4 (white) karbonn titan...\n",
              "50409    nokia lumia 530 (dual sim, grey) colour:grey  ...\n",
              "Name: Text, Length: 27754, dtype: object"
            ]
          },
          "metadata": {},
          "execution_count": 9
        }
      ]
    },
    {
      "cell_type": "code",
      "source": [
        "docs=np.array(df['Text'])"
      ],
      "metadata": {
        "id": "mg6Xa3GiZ52A"
      },
      "execution_count": null,
      "outputs": []
    },
    {
      "cell_type": "code",
      "source": [
        "\n",
        "docs\n"
      ],
      "metadata": {
        "colab": {
          "base_uri": "https://localhost:8080/"
        },
        "id": "vx4DtGbHZ5y4",
        "outputId": "0e37337c-c41f-4a6c-cda1-1fb3bcecee3f"
      },
      "execution_count": null,
      "outputs": [
        {
          "output_type": "execute_result",
          "data": {
            "text/plain": [
              "array([\"saf 'floral' framed painting (wood, 30 inch x 10 inch, special effect uv print textured, sao297) painting made up in synthetic frame with uv textured print which gives multi effects and attracts towards it. this is an special series of paintings which makes your wall very beautiful and gives a royal touch (a perfect gift for your special ones).\",\n",
              "       \"saf 'uv textured modern art print framed' painting (synthetic, 35 cm x 50 cm x 3 cm, set of 3) color:multicolor                                                                                \\xa0|\\xa0                           size:35 cm x 50 cm x 3 cm   overview a beautiful painting involves the action or skill of using paint in the right manner; hence, the end product will be a picture that can speak a thousand words they say. arts have been in trend for quite some time now. it can give different viewer different meanings style and design the saf wood matte abstract painting with frame is quite abstract and mysteriously beautiful. the painting has a nice frame to it. you can gift this to a family or a friend. the painting has various forms of certain figures on it as seen in the image. you can add a good set of lights to the place where the painting is and the decor will give a different feel and look to the place. quality and durability the painting has a matte finish and includes a good quality frame and will last for a long period. however, it does not include glass along with the frame. specifications you can purchase saf wood matte abstract painting with frame on amazon.in. it is the most customer-friendly platform with a wide range of products to choose from, and shopping is just a click away!\",\n",
              "       'saf flower print framed painting (synthetic, 13.5 inch x 22 inch, uv textured, set of 3, sanfsw4951) color:multicolor                                                                                \\xa0|\\xa0                           size:35 cm x 50 cm x 2 cm   a beautiful painting involves the action or skill of using paint in the right manner, hence, the end product will be a picture that can speak a thousand words they say. arts have been in trend for quite some time now. it can give different viewer different meanings style and design the saf wood matte painting with frame is quite abstract and mysteriously beautiful. the painting has a nice frame to it. you can gift this to a family or a friend. the painting has various forms of certain figures on it as seen in the image. you can add a good set of lights to the place where the painting is and the decor will give a different feel and look to the place. quality and durability the painting has a matte finish and includes a good quality frame and will last for a long period. however, it does not include glass along with the frame.',\n",
              "       ...,\n",
              "       'microsoft lumia 535 (black, 8gb) colour:black   product description high definition visuals this smartphone from the microsoft lumia series offers you a great viewing experience through its 5-inches lcd multi-touch capacitive touch screen (qhd ips). the resolution of 960 x 540 pixels sharply refines the picture quality of the display. also, the screen’s density of 220 ppi pixels and 16m colour support adds brightness and beautiful range of colours to the images on screen. windows phone processor this phone from microsoft is equipped with the windows phone operating system (v8.1) which gives an efficient platform for the apps to run smoothly. the snapdragon 200 quad core processor of 1.2 ghz and 1gb ram make sure that you experience fast and seamless functioning of this lumia 535. so, you can now comfortably flip through ‘n’ number of apps on your phone at a smooth and fast pace. stay connected with video calling if you are primarily looking for a phone which can fulfill your video conferencing as well as skype chat needs, then microsoft lumia 535 is the smartphone to look forward to. now, you can view the beautiful and charming faces of your folks even sitting miles away from home with this impressive feature. this smartphone comes with two hi-tech cameras of 5 megapixels each for clicking great shots, selfies and skype calls. additionally, there are other intelligent features which makes this phone a smart buy for you. durable battery life along with other benefits the lithium ion battery ensures that you own a solid power house in the form of a smartphone. the power of 1905 mah that the battery of microsoft lumia 535 provides you allows you to always be on the go and never feel the need to frequently recharge the phone again and again through the day. furthermore, you will get 11 hours of talk time on the 2g network and 13 hours on the 3g. this phone comes with internal memory space of 8gb which can further be expanded to 128gb with the help of an external sd card. lumia 535 operates on dual micro sim. from the manufacturer  bigger, better selfie bornlet your selfies speak for you. the 5mp wide angle, front camera on lumia 535 allows for more friends and backdrop in every shot. and with the lumia selfie app pre-installed, get access to your front camera, enhance your selfies with filters and easily share with friends through onedrive.     regular call meets video callisn\\'t it amazing to switch from a regular call to a high-quality video call in just a tap? simply tap the skype video call button on your lumia 535 dual sim, and instantly capture more of what\\'s around you with a 5mp wide angle front camera and integrated skype.   5 microsoft services - more & more funbring more fun to your life with 5 free microsoft services on lumia 535 dual sim. now with skype, onenote, onedrive, xbox and ms office - create, play and share instantly.      loud and clearviewing is not only clearer but larger too! lumia 535 dual sim with 5\" (12.7 cm) gorilla glass 3 screen, provides you with easy readability and better visual content consumption, all at your fingertips. a pleasure for your visual stimuli. high five to that.   always the latest windows phone experiencethe lumia 535 dual sim comes with the latest version of windows phone. and with regular over-the-air updates, you’ll always have the newest software. in class or at work? with microsoft office built in, and quick access to your files through onedrive, viewing and editing your documents is easy. and you get 15 gb of free onedrive storage – upload your photos and share them with friends in a private folder.      snapdragon 200 series processorssnapdragon 200 series processors let you enjoy the most popular mobile experiences while optimising battery life. snapdragon 200 series processors are made to allow smooth navigation and switching between apps while supporting vibrant hd visuals and premium multichannel audio.',\n",
              "       'karbonn titanium wind w4 (white) karbonn titanium wind w4 efficient performance a power packed windows phone that is pocket friendly, it is the karbonn titanium wind w4. with its 512 mb ram, this phone works smoothly with its window 8.1 operating system which is efficient and user friendly. it has a high speed 1.2 ghz qaud core processor for lag-free operations. it is equipped with 4 gb internal storage capacity which can be expanded up to 32 gb with an external sd card. with so much of advanced technology, this smartphone is quite within the reach of your budget.  sleek design and stunning camera the efficiency of this device is not restricted to its performance. the efficient design with its compact dimensions, 17 x 10.6 x 5.8 cm, and light weight, 122 g, makes it ergonomics and easy to hold avoiding accidental slips or drops. the white bezel is elegant and professional. the 4 inches lcd display has a resolution of 800 x 480 pixels for a colourful and clear picture quality. it has a pixel density of 233 ppi. it has a 5 mp rear camera with autofocus. it is accompanied with an led flash for bright pictures even in low light conditions. it is loaded with a 0.3 mp front camera for selfies, video calling and more.  battery backup and connectivity powered by 1,950 mah lithium-ion battery, gives you a battery backup of up to 8 hours of talk time and 240 hours of standby time. it is wi-fi and bluetooth enabled for high speed data connectivity and data transfer. it comes with usb cable, earphones, battery, charger, user manual and warranty card. grab the karbonn titanium wind w4 to experience cost effective and superior performance.',\n",
              "       'nokia lumia 530 (dual sim, grey) colour:grey   product description through brand licensing, nokia licensees place high quality, high-tech, beautifully designed phones into the hands and homes of people all over the word. bringing quality to their connected lives. hmd global oy is the exclusive global licensee for nokia branded mobile phones and is creating products that live up to the high expectations consumers have of our recognized and loved brand. since hmd became the new home of nokia phones in december 2016, it has has been delighting people worldwide with an award-winning range of android-based nokia smartphones, new feature phones and recreations of original iconic nokia phones with an up-to-date twist. \\t\\t\\t\\t    \\t \\t\\t\\t\\t\\t from the manufacturer     the latest version of windows phonewindows phone 8.1 is packed with great new features. open the action center with one swipe and your notifications, alerts and quick settings are all in one place. add your favourite picture to the background of the new start screen and discover the speed of the word flow keyboard. it’s the best windows phone experience yet.    get your favourite appsshazam, office, vine, facebook and instagram beta – the nokia lumia 530 dual sim has the apps you need. need more space? add up to 128 gb of extra storage and move your apps to the sd card. it’s a great way to create space for more apps without compromising on performance.    two is better than onethe nokia lumia 530 dual sim comes with smart dual sim. this fantastic new feature is a great way to manage your mobile costs. use call waiting and call forwarding between your sim cards to choose the best sim card for the situation – optimise your mobile life with smart dual sim.       one place for everything in your lifeuse onedrive to store and sync your important files across multiple devices. your pictures, videos and documents are ready to go – anytime, anywhere. and with 15gb of free storage, you have enough space for everything you need. editing and sharing is easy too – the nokia lumia 530 dual sim comes with microsoft office so you’ll be ready to take care of business wherever you are.     more power for everyonegood value means never compromising. that’s why the nokia lumia 530 dual sim comes with a quad core processor, the latest version of windows phone and the best new apps. whether you’re messaging, socializing or gaming, the nokia lumia 530 dual sim gives you the power to have fun..'],\n",
              "      dtype=object)"
            ]
          },
          "metadata": {},
          "execution_count": 11
        }
      ]
    },
    {
      "cell_type": "code",
      "source": [],
      "metadata": {
        "id": "r2MyNQsfbayq"
      },
      "execution_count": null,
      "outputs": []
    },
    {
      "cell_type": "code",
      "source": [],
      "metadata": {
        "id": "x_Zuu0uBbaut"
      },
      "execution_count": null,
      "outputs": []
    },
    {
      "cell_type": "code",
      "source": [
        "df['Category'].unique()"
      ],
      "metadata": {
        "colab": {
          "base_uri": "https://localhost:8080/"
        },
        "id": "Pm1g6Gqw4EM9",
        "outputId": "ac7525d5-9756-4a5e-a7c7-452a3c166121"
      },
      "execution_count": null,
      "outputs": [
        {
          "output_type": "execute_result",
          "data": {
            "text/plain": [
              "array(['household', 'books', 'clothing & accessories', 'electronics'],\n",
              "      dtype=object)"
            ]
          },
          "metadata": {},
          "execution_count": 13
        }
      ]
    },
    {
      "cell_type": "code",
      "source": [
        "sf=df['Category'].map({'household':0, 'electronics':1,'books':2,'clothing & accessories':3})"
      ],
      "metadata": {
        "id": "AIbpm0VObmj0"
      },
      "execution_count": null,
      "outputs": []
    },
    {
      "cell_type": "code",
      "source": [
        "sf=np.array(sf)"
      ],
      "metadata": {
        "id": "Vuqi8Tw7Z5w0"
      },
      "execution_count": null,
      "outputs": []
    },
    {
      "cell_type": "code",
      "source": [
        "sf"
      ],
      "metadata": {
        "colab": {
          "base_uri": "https://localhost:8080/"
        },
        "id": "Od1sNJTKZ5un",
        "outputId": "de780ad2-2950-4ff9-ed86-43ab35d39b6a"
      },
      "execution_count": null,
      "outputs": [
        {
          "output_type": "execute_result",
          "data": {
            "text/plain": [
              "array([0, 0, 0, ..., 1, 1, 1])"
            ]
          },
          "metadata": {},
          "execution_count": 32
        }
      ]
    },
    {
      "cell_type": "code",
      "source": [
        "# prepare tokenizer\n",
        "t = Tokenizer()\n",
        "t.fit_on_texts(docs)\n",
        "vocab_size = len(t.word_index) + 1\n",
        "# integer encode the documents\n",
        "encoded_docs = t.texts_to_sequences(docs)\n",
        "print(encoded_docs)"
      ],
      "metadata": {
        "colab": {
          "base_uri": "https://localhost:8080/"
        },
        "id": "lPLI56nHZ5st",
        "outputId": "3db1c1a2-83ca-48fb-99d9-6e8d9e22ded8"
      },
      "execution_count": null,
      "outputs": [
        {
          "output_type": "stream",
          "name": "stderr",
          "text": [
            "IOPub data rate exceeded.\n",
            "The notebook server will temporarily stop sending output\n",
            "to the client in order to avoid crashing it.\n",
            "To change this limit, set the config variable\n",
            "`--NotebookApp.iopub_data_rate_limit`.\n",
            "\n",
            "Current values:\n",
            "NotebookApp.iopub_data_rate_limit=1000000.0 (bytes/sec)\n",
            "NotebookApp.rate_limit_window=3.0 (secs)\n",
            "\n"
          ]
        }
      ]
    },
    {
      "cell_type": "code",
      "source": [
        "from tensorflow.keras.preprocessing.sequence import pad_sequences\n"
      ],
      "metadata": {
        "id": "ALZwNRjJZ5o3"
      },
      "execution_count": null,
      "outputs": []
    },
    {
      "cell_type": "code",
      "source": [
        "# pad documents to a max length of 20 words\n",
        "max_length = 20\n",
        "padded_docs = pad_sequences(encoded_docs, maxlen=max_length, padding='post')\n",
        "print(padded_docs)"
      ],
      "metadata": {
        "colab": {
          "base_uri": "https://localhost:8080/"
        },
        "id": "90Iy4BLrcGZg",
        "outputId": "3025a09d-95bc-477a-9f03-a30648d30bc8"
      },
      "execution_count": null,
      "outputs": [
        {
          "output_type": "stream",
          "name": "stdout",
          "text": [
            "[[    3  5792    45 ...    10   342  1074]\n",
            " [   77  1192   448 ...     5  1841   566]\n",
            " [  148    36   475 ...     8     1   475]\n",
            " ...\n",
            " [ 6492    19    40 ...   237 24625   187]\n",
            " [  222   649   619 ...     2   544   247]\n",
            " [ 2939   730  2607 ...     4    42   581]]\n"
          ]
        }
      ]
    },
    {
      "cell_type": "code",
      "source": [
        "!wget http://nlp.stanford.edu/data/glove.6B.zip\n",
        "!unzip glove*.zip"
      ],
      "metadata": {
        "colab": {
          "base_uri": "https://localhost:8080/"
        },
        "id": "uTedxtCVz4J1",
        "outputId": "501e91eb-073b-4068-9022-06c942cd2910"
      },
      "execution_count": null,
      "outputs": [
        {
          "output_type": "stream",
          "name": "stdout",
          "text": [
            "--2022-11-17 20:39:20--  http://nlp.stanford.edu/data/glove.6B.zip\n",
            "Resolving nlp.stanford.edu (nlp.stanford.edu)... 171.64.67.140\n",
            "Connecting to nlp.stanford.edu (nlp.stanford.edu)|171.64.67.140|:80... connected.\n",
            "HTTP request sent, awaiting response... 302 Found\n",
            "Location: https://nlp.stanford.edu/data/glove.6B.zip [following]\n",
            "--2022-11-17 20:39:20--  https://nlp.stanford.edu/data/glove.6B.zip\n",
            "Connecting to nlp.stanford.edu (nlp.stanford.edu)|171.64.67.140|:443... connected.\n",
            "HTTP request sent, awaiting response... 301 Moved Permanently\n",
            "Location: https://downloads.cs.stanford.edu/nlp/data/glove.6B.zip [following]\n",
            "--2022-11-17 20:39:20--  https://downloads.cs.stanford.edu/nlp/data/glove.6B.zip\n",
            "Resolving downloads.cs.stanford.edu (downloads.cs.stanford.edu)... 171.64.64.22\n",
            "Connecting to downloads.cs.stanford.edu (downloads.cs.stanford.edu)|171.64.64.22|:443... connected.\n",
            "HTTP request sent, awaiting response... 200 OK\n",
            "Length: 862182613 (822M) [application/zip]\n",
            "Saving to: ‘glove.6B.zip’\n",
            "\n",
            "glove.6B.zip        100%[===================>] 822.24M  4.67MB/s    in 2m 44s  \n",
            "\n",
            "2022-11-17 20:42:05 (5.01 MB/s) - ‘glove.6B.zip’ saved [862182613/862182613]\n",
            "\n",
            "Archive:  glove.6B.zip\n",
            "  inflating: glove.6B.50d.txt        \n",
            "  inflating: glove.6B.100d.txt       \n",
            "  inflating: glove.6B.200d.txt       \n",
            "  inflating: glove.6B.300d.txt       \n"
          ]
        }
      ]
    },
    {
      "cell_type": "code",
      "source": [
        "# load the whole embedding into memory\n",
        "embeddings_index = dict()\n",
        "f = open('/content/glove.6B.100d.txt')\n",
        "for line in f:\n",
        "\tvalues = line.split()\n",
        "\tword = values[0]\n",
        "\tcoefs = np.array(values[1:], dtype='float32')\n",
        "\tembeddings_index[word] = coefs\n",
        "f.close()\n",
        "print('Loaded %s word vectors.' % len(embeddings_index))"
      ],
      "metadata": {
        "colab": {
          "base_uri": "https://localhost:8080/"
        },
        "id": "Nn2BbZq1cGXT",
        "outputId": "8a10200c-348b-4756-ba3d-fcabb832ce9f"
      },
      "execution_count": null,
      "outputs": [
        {
          "output_type": "stream",
          "name": "stdout",
          "text": [
            "Loaded 400000 word vectors.\n"
          ]
        }
      ]
    },
    {
      "cell_type": "code",
      "source": [
        "# create a weight matrix for words in training docs\n",
        "embedding_matrix = zeros((vocab_size, 100))\n",
        "for word, i in t.word_index.items():\n",
        "\tembedding_vector = embeddings_index.get(word)\n",
        "\tif embedding_vector is not None:\n",
        "\t\tembedding_matrix[i] = embedding_vector"
      ],
      "metadata": {
        "id": "p4TYZ5i8cGVe"
      },
      "execution_count": null,
      "outputs": []
    },
    {
      "cell_type": "code",
      "source": [
        "embedding_matrix"
      ],
      "metadata": {
        "colab": {
          "base_uri": "https://localhost:8080/",
          "height": 165
        },
        "id": "m03C36Ym00jv",
        "outputId": "455594ae-c872-43ff-b64d-3ac0dd119344"
      },
      "execution_count": null,
      "outputs": [
        {
          "output_type": "error",
          "ename": "NameError",
          "evalue": "ignored",
          "traceback": [
            "\u001b[0;31m---------------------------------------------------------------------------\u001b[0m",
            "\u001b[0;31mNameError\u001b[0m                                 Traceback (most recent call last)",
            "\u001b[0;32m<ipython-input-24-4351632c616b>\u001b[0m in \u001b[0;36m<module>\u001b[0;34m\u001b[0m\n\u001b[0;32m----> 1\u001b[0;31m \u001b[0membedding_matrix\u001b[0m\u001b[0;34m\u001b[0m\u001b[0;34m\u001b[0m\u001b[0m\n\u001b[0m",
            "\u001b[0;31mNameError\u001b[0m: name 'embedding_matrix' is not defined"
          ]
        }
      ]
    },
    {
      "cell_type": "code",
      "source": [
        "padded_docs"
      ],
      "metadata": {
        "colab": {
          "base_uri": "https://localhost:8080/",
          "height": 165
        },
        "id": "6uegCmsE1pq_",
        "outputId": "2b810172-e4e6-40b5-c7e4-7f0e6db5fb34"
      },
      "execution_count": null,
      "outputs": [
        {
          "output_type": "error",
          "ename": "NameError",
          "evalue": "ignored",
          "traceback": [
            "\u001b[0;31m---------------------------------------------------------------------------\u001b[0m",
            "\u001b[0;31mNameError\u001b[0m                                 Traceback (most recent call last)",
            "\u001b[0;32m<ipython-input-25-e9832e5b2af0>\u001b[0m in \u001b[0;36m<module>\u001b[0;34m\u001b[0m\n\u001b[0;32m----> 1\u001b[0;31m \u001b[0mpadded_docs\u001b[0m\u001b[0;34m\u001b[0m\u001b[0;34m\u001b[0m\u001b[0m\n\u001b[0m",
            "\u001b[0;31mNameError\u001b[0m: name 'padded_docs' is not defined"
          ]
        }
      ]
    },
    {
      "cell_type": "code",
      "source": [
        "t.word_index"
      ],
      "metadata": {
        "colab": {
          "base_uri": "https://localhost:8080/"
        },
        "id": "7g6-aRy45uSW",
        "outputId": "629cc202-3c7e-46d1-d42b-990b010b6d8a"
      },
      "execution_count": null,
      "outputs": [
        {
          "output_type": "execute_result",
          "data": {
            "text/plain": [
              "{'the': 1,\n",
              " 'and': 2,\n",
              " 'of': 3,\n",
              " 'to': 4,\n",
              " 'a': 5,\n",
              " 'for': 6,\n",
              " 'in': 7,\n",
              " 'with': 8,\n",
              " 'is': 9,\n",
              " 'your': 10,\n",
              " 'you': 11,\n",
              " 'it': 12,\n",
              " 'this': 13,\n",
              " 'on': 14,\n",
              " 'from': 15,\n",
              " 'that': 16,\n",
              " 'or': 17,\n",
              " 'as': 18,\n",
              " 'are': 19,\n",
              " 'can': 20,\n",
              " '1': 21,\n",
              " 'be': 22,\n",
              " 'all': 23,\n",
              " 'an': 24,\n",
              " '2': 25,\n",
              " 'has': 26,\n",
              " 'at': 27,\n",
              " 'by': 28,\n",
              " '3': 29,\n",
              " 'will': 30,\n",
              " 'size': 31,\n",
              " 'x': 32,\n",
              " 'set': 33,\n",
              " '5': 34,\n",
              " 'use': 35,\n",
              " 'quality': 36,\n",
              " 'book': 37,\n",
              " 'not': 38,\n",
              " 'easy': 39,\n",
              " 'made': 40,\n",
              " 'one': 41,\n",
              " 'have': 42,\n",
              " 'high': 43,\n",
              " 'up': 44,\n",
              " 'which': 45,\n",
              " 'product': 46,\n",
              " 'about': 47,\n",
              " '4': 48,\n",
              " 'black': 49,\n",
              " 'also': 50,\n",
              " 'our': 51,\n",
              " 'he': 52,\n",
              " 'home': 53,\n",
              " 'design': 54,\n",
              " 'more': 55,\n",
              " 'color': 56,\n",
              " 'author': 57,\n",
              " 'any': 58,\n",
              " 'cotton': 59,\n",
              " 'new': 60,\n",
              " 'its': 61,\n",
              " 'we': 62,\n",
              " 'his': 63,\n",
              " 'time': 64,\n",
              " 'these': 65,\n",
              " '6': 66,\n",
              " 'power': 67,\n",
              " 'perfect': 68,\n",
              " 'best': 69,\n",
              " 'material': 70,\n",
              " 'other': 71,\n",
              " 'light': 72,\n",
              " 'make': 73,\n",
              " 'used': 74,\n",
              " 'no': 75,\n",
              " 'features': 76,\n",
              " 'most': 77,\n",
              " 'so': 78,\n",
              " 'long': 79,\n",
              " 'steel': 80,\n",
              " 'look': 81,\n",
              " 'when': 82,\n",
              " 'comes': 83,\n",
              " 'usb': 84,\n",
              " 'water': 85,\n",
              " 'designed': 86,\n",
              " 'out': 87,\n",
              " '0': 88,\n",
              " 'free': 89,\n",
              " 'white': 90,\n",
              " 'into': 91,\n",
              " 'style': 92,\n",
              " 'life': 93,\n",
              " '\\xa0': 94,\n",
              " 'but': 95,\n",
              " 'was': 96,\n",
              " 'i': 97,\n",
              " 'like': 98,\n",
              " 'soft': 99,\n",
              " '10': 100,\n",
              " '100': 101,\n",
              " 'they': 102,\n",
              " 'table': 103,\n",
              " 'their': 104,\n",
              " 'well': 105,\n",
              " '8': 106,\n",
              " 'inch': 107,\n",
              " 'wear': 108,\n",
              " 'fit': 109,\n",
              " 'great': 110,\n",
              " 'fabric': 111,\n",
              " 'top': 112,\n",
              " 'been': 113,\n",
              " 'only': 114,\n",
              " 'very': 115,\n",
              " 'if': 116,\n",
              " 'than': 117,\n",
              " 'makes': 118,\n",
              " '7': 119,\n",
              " 'stainless': 120,\n",
              " 'world': 121,\n",
              " 'camera': 122,\n",
              " 'just': 123,\n",
              " 'kitchen': 124,\n",
              " 'years': 125,\n",
              " 'pack': 126,\n",
              " 'products': 127,\n",
              " 'range': 128,\n",
              " 'colour': 129,\n",
              " 'books': 130,\n",
              " 'plastic': 131,\n",
              " 'while': 132,\n",
              " 'work': 133,\n",
              " 'get': 134,\n",
              " 'over': 135,\n",
              " 'brand': 136,\n",
              " 'room': 137,\n",
              " 'do': 138,\n",
              " 'keep': 139,\n",
              " 'them': 140,\n",
              " 'hand': 141,\n",
              " 'who': 142,\n",
              " 'name': 143,\n",
              " 'even': 144,\n",
              " 'women': 145,\n",
              " 'comfortable': 146,\n",
              " 'full': 147,\n",
              " 'good': 148,\n",
              " 'comfort': 149,\n",
              " 'cm': 150,\n",
              " 'blue': 151,\n",
              " 'without': 152,\n",
              " 'wall': 153,\n",
              " 'length': 154,\n",
              " 'cable': 155,\n",
              " 'how': 156,\n",
              " 'every': 157,\n",
              " 'way': 158,\n",
              " 'easily': 159,\n",
              " 'air': 160,\n",
              " 'india': 161,\n",
              " 'package': 162,\n",
              " 'experience': 163,\n",
              " 'storage': 164,\n",
              " 'different': 165,\n",
              " 'review': 166,\n",
              " 'clean': 167,\n",
              " 'two': 168,\n",
              " 'glass': 169,\n",
              " 'weight': 170,\n",
              " 'day': 171,\n",
              " 'back': 172,\n",
              " 'us': 173,\n",
              " 'led': 174,\n",
              " 'durable': 175,\n",
              " 'stylish': 176,\n",
              " 'through': 177,\n",
              " 'cover': 178,\n",
              " 'bluetooth': 179,\n",
              " 'system': 180,\n",
              " 'description': 181,\n",
              " 'her': 182,\n",
              " 'need': 183,\n",
              " 'finish': 184,\n",
              " 'times': 185,\n",
              " 'ideal': 186,\n",
              " 'audio': 187,\n",
              " 'what': 188,\n",
              " 'after': 189,\n",
              " 'car': 190,\n",
              " 'type': 191,\n",
              " 'both': 192,\n",
              " 'provides': 193,\n",
              " 'body': 194,\n",
              " 'kids': 195,\n",
              " 'food': 196,\n",
              " 'many': 197,\n",
              " 'phone': 198,\n",
              " 'case': 199,\n",
              " 'wireless': 200,\n",
              " 'technology': 201,\n",
              " \"women's\": 202,\n",
              " 'card': 203,\n",
              " 'first': 204,\n",
              " 'help': 205,\n",
              " 'each': 206,\n",
              " 'support': 207,\n",
              " 'small': 208,\n",
              " '12': 209,\n",
              " 'inches': 210,\n",
              " 'non': 211,\n",
              " 'off': 212,\n",
              " 'making': 213,\n",
              " 'may': 214,\n",
              " 'lens': 215,\n",
              " 'using': 216,\n",
              " 'portable': 217,\n",
              " 'space': 218,\n",
              " 'device': 219,\n",
              " 'beautiful': 220,\n",
              " 'safe': 221,\n",
              " 'battery': 222,\n",
              " 'such': 223,\n",
              " 'red': 224,\n",
              " 'control': 225,\n",
              " 'available': 226,\n",
              " 'university': 227,\n",
              " 'piece': 228,\n",
              " 'cleaning': 229,\n",
              " 'etc': 230,\n",
              " 'give': 231,\n",
              " 'sound': 232,\n",
              " 'unique': 233,\n",
              " 'machine': 234,\n",
              " 'speed': 235,\n",
              " '9': 236,\n",
              " 'premium': 237,\n",
              " 'there': 238,\n",
              " 'multi': 239,\n",
              " 'she': 240,\n",
              " 'bag': 241,\n",
              " 'office': 242,\n",
              " 'box': 243,\n",
              " 'stand': 244,\n",
              " 'dry': 245,\n",
              " 'video': 246,\n",
              " 'performance': 247,\n",
              " 'digital': 248,\n",
              " 'men': 249,\n",
              " 'year': 250,\n",
              " 'now': 251,\n",
              " 's': 252,\n",
              " 'includes': 253,\n",
              " 'gives': 254,\n",
              " 'warranty': 255,\n",
              " 'content': 256,\n",
              " 'read': 257,\n",
              " 'place': 258,\n",
              " 'students': 259,\n",
              " \"men's\": 260,\n",
              " 'laptop': 261,\n",
              " 'music': 262,\n",
              " 'protection': 263,\n",
              " 'holder': 264,\n",
              " 'please': 265,\n",
              " 'display': 266,\n",
              " 'handle': 267,\n",
              " 'gift': 268,\n",
              " 'screen': 269,\n",
              " 'compact': 270,\n",
              " 'feel': 271,\n",
              " 'better': 272,\n",
              " 'built': 273,\n",
              " 'provide': 274,\n",
              " 'wide': 275,\n",
              " 'love': 276,\n",
              " 'before': 277,\n",
              " '15': 278,\n",
              " 'mobile': 279,\n",
              " 'indian': 280,\n",
              " 'take': 281,\n",
              " 'speaker': 282,\n",
              " 'go': 283,\n",
              " 'girls': 284,\n",
              " 'people': 285,\n",
              " 'metal': 286,\n",
              " 'enjoy': 287,\n",
              " 'suitable': 288,\n",
              " '”': 289,\n",
              " 'hard': 290,\n",
              " 'skin': 291,\n",
              " 'baby': 292,\n",
              " 'simple': 293,\n",
              " 'large': 294,\n",
              " 'adapter': 295,\n",
              " 'smart': 296,\n",
              " 'wash': 297,\n",
              " 'devices': 298,\n",
              " \"it's\": 299,\n",
              " 'compatible': 300,\n",
              " 'collection': 301,\n",
              " 'house': 302,\n",
              " 'offers': 303,\n",
              " 'touch': 304,\n",
              " 'mini': 305,\n",
              " 'must': 306,\n",
              " 'mm': 307,\n",
              " 'wood': 308,\n",
              " 'around': 309,\n",
              " 'clear': 310,\n",
              " 'right': 311,\n",
              " 'modern': 312,\n",
              " 'including': 313,\n",
              " 'standard': 314,\n",
              " 'item': 315,\n",
              " 'capacity': 316,\n",
              " 'various': 317,\n",
              " 'shirt': 318,\n",
              " 'family': 319,\n",
              " 'silver': 320,\n",
              " 'included': 321,\n",
              " '30': 322,\n",
              " 'elegant': 323,\n",
              " 'want': 324,\n",
              " 'paper': 325,\n",
              " 'feet': 326,\n",
              " 'fashion': 327,\n",
              " 'side': 328,\n",
              " 'colors': 329,\n",
              " 'super': 330,\n",
              " 'much': 331,\n",
              " 'see': 332,\n",
              " 'natural': 333,\n",
              " 'then': 334,\n",
              " 'dust': 335,\n",
              " 'pc': 336,\n",
              " 'helps': 337,\n",
              " 'function': 338,\n",
              " 'filter': 339,\n",
              " 'accessories': 340,\n",
              " 'works': 341,\n",
              " 'special': 342,\n",
              " 'single': 343,\n",
              " 'my': 344,\n",
              " 'play': 345,\n",
              " 'art': 346,\n",
              " 'heat': 347,\n",
              " 'furniture': 348,\n",
              " 'round': 349,\n",
              " 'some': 350,\n",
              " 'low': 351,\n",
              " 't': 352,\n",
              " 'night': 353,\n",
              " '20': 354,\n",
              " 'feature': 355,\n",
              " 'highly': 356,\n",
              " 'living': 357,\n",
              " 'business': 358,\n",
              " 'data': 359,\n",
              " 'care': 360,\n",
              " 'research': 361,\n",
              " 'surface': 362,\n",
              " 'allows': 363,\n",
              " 'under': 364,\n",
              " 'ensure': 365,\n",
              " 'note': 366,\n",
              " 'convenient': 367,\n",
              " 'between': 368,\n",
              " 'wooden': 369,\n",
              " 'would': 370,\n",
              " 'powerful': 371,\n",
              " 'mind': 372,\n",
              " 'guide': 373,\n",
              " 'science': 374,\n",
              " 'smooth': 375,\n",
              " 'carry': 376,\n",
              " 'plus': 377,\n",
              " 'level': 378,\n",
              " 'brown': 379,\n",
              " 'extra': 380,\n",
              " 'needs': 381,\n",
              " 'hd': 382,\n",
              " 'solid': 383,\n",
              " 'm': 384,\n",
              " 'international': 385,\n",
              " 'series': 386,\n",
              " 'add': 387,\n",
              " 'front': 388,\n",
              " 'sports': 389,\n",
              " 'where': 390,\n",
              " 'fan': 391,\n",
              " 'l': 392,\n",
              " 'port': 393,\n",
              " 'little': 394,\n",
              " 'computer': 395,\n",
              " 'store': 396,\n",
              " 'print': 397,\n",
              " 'warm': 398,\n",
              " 'party': 399,\n",
              " 'history': 400,\n",
              " 'casual': 401,\n",
              " 'lightweight': 402,\n",
              " 'own': 403,\n",
              " 'green': 404,\n",
              " 'decor': 405,\n",
              " 'height': 406,\n",
              " 'inside': 407,\n",
              " 'professional': 408,\n",
              " 'drive': 409,\n",
              " 'york': 410,\n",
              " 'complete': 411,\n",
              " 'hot': 412,\n",
              " 'down': 413,\n",
              " 'story': 414,\n",
              " 'anti': 415,\n",
              " 'pieces': 416,\n",
              " 'door': 417,\n",
              " 'school': 418,\n",
              " 'd': 419,\n",
              " 'classic': 420,\n",
              " 'shape': 421,\n",
              " 'come': 422,\n",
              " 'outdoor': 423,\n",
              " 'latest': 424,\n",
              " 'important': 425,\n",
              " 'tool': 426,\n",
              " 'temperature': 427,\n",
              " '–': 428,\n",
              " 'bed': 429,\n",
              " 'those': 430,\n",
              " 'plug': 431,\n",
              " 'due': 432,\n",
              " 'team': 433,\n",
              " 'professor': 434,\n",
              " 'cool': 435,\n",
              " 'output': 436,\n",
              " 'double': 437,\n",
              " 'regular': 438,\n",
              " 'chair': 439,\n",
              " 'pair': 440,\n",
              " 'key': 441,\n",
              " 'adjustable': 442,\n",
              " 'head': 443,\n",
              " 'resistant': 444,\n",
              " 'kit': 445,\n",
              " 'manual': 446,\n",
              " 'during': 447,\n",
              " 'friendly': 448,\n",
              " 'button': 449,\n",
              " 'clothes': 450,\n",
              " 'put': 451,\n",
              " 'choice': 452,\n",
              " 'travel': 453,\n",
              " 'bra': 454,\n",
              " 'three': 455,\n",
              " 'hours': 456,\n",
              " 'fine': 457,\n",
              " 'w': 458,\n",
              " '50': 459,\n",
              " 'quick': 460,\n",
              " 'safety': 461,\n",
              " 'base': 462,\n",
              " 'ultra': 463,\n",
              " 'charging': 464,\n",
              " 'printed': 465,\n",
              " 'part': 466,\n",
              " 'sure': 467,\n",
              " 'children': 468,\n",
              " 'memory': 469,\n",
              " 'windows': 470,\n",
              " 'strong': 471,\n",
              " 'lives': 472,\n",
              " 'waist': 473,\n",
              " 'attractive': 474,\n",
              " 'frame': 475,\n",
              " 'daily': 476,\n",
              " 'same': 477,\n",
              " 'bathroom': 478,\n",
              " 'per': 479,\n",
              " 'number': 480,\n",
              " 'self': 481,\n",
              " 'class': 482,\n",
              " 'being': 483,\n",
              " 'stick': 484,\n",
              " 'cooking': 485,\n",
              " 'health': 486,\n",
              " 'connect': 487,\n",
              " 'does': 488,\n",
              " 'mode': 489,\n",
              " 'iron': 490,\n",
              " 'fast': 491,\n",
              " 'socks': 492,\n",
              " '16': 493,\n",
              " 'slim': 494,\n",
              " 'find': 495,\n",
              " 'along': 496,\n",
              " 'switch': 497,\n",
              " 'based': 498,\n",
              " 'ensures': 499,\n",
              " 'boys': 500,\n",
              " 'written': 501,\n",
              " 'mount': 502,\n",
              " 'degree': 503,\n",
              " 'dress': 504,\n",
              " 'never': 505,\n",
              " 'grey': 506,\n",
              " 'cloth': 507,\n",
              " 'short': 508,\n",
              " 'cut': 509,\n",
              " 'since': 510,\n",
              " 'coffee': 511,\n",
              " 'belt': 512,\n",
              " 'brings': 513,\n",
              " 'tv': 514,\n",
              " 'real': 515,\n",
              " 'waterproof': 516,\n",
              " 'fresh': 517,\n",
              " 'board': 518,\n",
              " 'dual': 519,\n",
              " 'heavy': 520,\n",
              " 'designs': 521,\n",
              " 'voltage': 522,\n",
              " 'maximum': 523,\n",
              " 'looking': 524,\n",
              " 'always': 525,\n",
              " 'grade': 526,\n",
              " 'unit': 527,\n",
              " 'last': 528,\n",
              " 'buy': 529,\n",
              " 'working': 530,\n",
              " 'pocket': 531,\n",
              " 'edition': 532,\n",
              " 'traditional': 533,\n",
              " 'image': 534,\n",
              " 'tools': 535,\n",
              " 'micro': 536,\n",
              " 'vacuum': 537,\n",
              " 'crafted': 538,\n",
              " 'should': 539,\n",
              " 'model': 540,\n",
              " 'excellent': 541,\n",
              " 'simply': 542,\n",
              " 'proof': 543,\n",
              " 'superior': 544,\n",
              " 'electric': 545,\n",
              " 'pattern': 546,\n",
              " 'width': 547,\n",
              " 'solution': 548,\n",
              " 'bottom': 549,\n",
              " 'combo': 550,\n",
              " 'watt': 551,\n",
              " 'gold': 552,\n",
              " 'open': 553,\n",
              " 'approx': 554,\n",
              " 'grip': 555,\n",
              " '11': 556,\n",
              " 'multiple': 557,\n",
              " 'leather': 558,\n",
              " '18': 559,\n",
              " 'too': 560,\n",
              " 'neck': 561,\n",
              " 'pcs': 562,\n",
              " 'protect': 563,\n",
              " 'ready': 564,\n",
              " 'sturdy': 565,\n",
              " 'away': 566,\n",
              " 'create': 567,\n",
              " 'hold': 568,\n",
              " 'bar': 569,\n",
              " 'rich': 570,\n",
              " 'press': 571,\n",
              " 'exam': 572,\n",
              " 'iphone': 573,\n",
              " 'big': 574,\n",
              " 'line': 575,\n",
              " 'once': 576,\n",
              " 'step': 577,\n",
              " 'keeping': 578,\n",
              " 'c': 579,\n",
              " 'online': 580,\n",
              " 'fun': 581,\n",
              " 'suit': 582,\n",
              " '25': 583,\n",
              " 'lamp': 584,\n",
              " 'pro': 585,\n",
              " 'had': 586,\n",
              " 'writing': 587,\n",
              " 'lock': 588,\n",
              " 'covers': 589,\n",
              " 'remote': 590,\n",
              " '24': 591,\n",
              " 'reading': 592,\n",
              " 'less': 593,\n",
              " 'human': 594,\n",
              " 'end': 595,\n",
              " 'durability': 596,\n",
              " 'specifications': 597,\n",
              " 'yet': 598,\n",
              " 'old': 599,\n",
              " 'cup': 600,\n",
              " 'trendy': 601,\n",
              " 'tripod': 602,\n",
              " 'study': 603,\n",
              " 'american': 604,\n",
              " 'items': 605,\n",
              " 'center': 606,\n",
              " 'pink': 607,\n",
              " 'whole': 608,\n",
              " 'offer': 609,\n",
              " 'fits': 610,\n",
              " 'g': 611,\n",
              " 'know': 612,\n",
              " 'addition': 613,\n",
              " 'energy': 614,\n",
              " 'effective': 615,\n",
              " 'ease': 616,\n",
              " 'cleaner': 617,\n",
              " 'max': 618,\n",
              " 'user': 619,\n",
              " 'useful': 620,\n",
              " 'ever': 621,\n",
              " 'brush': 622,\n",
              " 'looks': 623,\n",
              " 'sleeve': 624,\n",
              " 'hands': 625,\n",
              " 'eye': 626,\n",
              " '40': 627,\n",
              " 'speakers': 628,\n",
              " 'mirror': 629,\n",
              " 'hdmi': 630,\n",
              " 'pure': 631,\n",
              " 'washing': 632,\n",
              " 'service': 633,\n",
              " 'english': 634,\n",
              " 'essential': 635,\n",
              " 'materials': 636,\n",
              " 'required': 637,\n",
              " 'because': 638,\n",
              " 'installation': 639,\n",
              " 'multicolour': 640,\n",
              " 'dimensions': 641,\n",
              " 'tea': 642,\n",
              " 'management': 643,\n",
              " 'national': 644,\n",
              " 'oil': 645,\n",
              " 'me': 646,\n",
              " 'keeps': 647,\n",
              " 'sunglasses': 648,\n",
              " 'charger': 649,\n",
              " 'player': 650,\n",
              " 'b': 651,\n",
              " 'polyester': 652,\n",
              " 'sizes': 653,\n",
              " 'panel': 654,\n",
              " 'access': 655,\n",
              " 'four': 656,\n",
              " 'universal': 657,\n",
              " 'why': 658,\n",
              " 'stereo': 659,\n",
              " '14': 660,\n",
              " 'monitor': 661,\n",
              " 'dark': 662,\n",
              " 'picture': 663,\n",
              " 'h': 664,\n",
              " 'include': 665,\n",
              " 'e': 666,\n",
              " 'could': 667,\n",
              " 'amazon': 668,\n",
              " 'knowledge': 669,\n",
              " 'flash': 670,\n",
              " 'wire': 671,\n",
              " 'rack': 672,\n",
              " '•': 673,\n",
              " 'towel': 674,\n",
              " 'core': 675,\n",
              " 'dr': 676,\n",
              " 'lasting': 677,\n",
              " 'personal': 678,\n",
              " 'angle': 679,\n",
              " 'known': 680,\n",
              " 'today': 681,\n",
              " 'award': 682,\n",
              " 'security': 683,\n",
              " 'purpose': 684,\n",
              " 'hanging': 685,\n",
              " 'test': 686,\n",
              " 'auto': 687,\n",
              " 'photo': 688,\n",
              " 'area': 689,\n",
              " 'bring': 690,\n",
              " 'age': 691,\n",
              " 'enough': 692,\n",
              " 'tablet': 693,\n",
              " 'winter': 694,\n",
              " 'change': 695,\n",
              " 'supports': 696,\n",
              " 'practice': 697,\n",
              " 'maternity': 698,\n",
              " '13': 699,\n",
              " 'questions': 700,\n",
              " 'input': 701,\n",
              " 'cutting': 702,\n",
              " 'against': 703,\n",
              " 'information': 704,\n",
              " 'slip': 705,\n",
              " 'practical': 706,\n",
              " 'game': 707,\n",
              " 'reader': 708,\n",
              " 'leading': 709,\n",
              " 'sd': 710,\n",
              " 'together': 711,\n",
              " 'shoes': 712,\n",
              " 'view': 713,\n",
              " 'fully': 714,\n",
              " '3d': 715,\n",
              " 'having': 716,\n",
              " 'friends': 717,\n",
              " 'external': 718,\n",
              " 'automatic': 719,\n",
              " 'lights': 720,\n",
              " 'advanced': 721,\n",
              " 'manufacturer': 722,\n",
              " 'medical': 723,\n",
              " 'dining': 724,\n",
              " 'lid': 725,\n",
              " 'him': 726,\n",
              " 'decorative': 727,\n",
              " 'keyboard': 728,\n",
              " 'r': 729,\n",
              " 'whether': 730,\n",
              " 'lighting': 731,\n",
              " 'yourself': 732,\n",
              " 'college': 733,\n",
              " 'cold': 734,\n",
              " 'diameter': 735,\n",
              " 'android': 736,\n",
              " 'shower': 737,\n",
              " \"don't\": 738,\n",
              " 'resolution': 739,\n",
              " 'face': 740,\n",
              " 'flexible': 741,\n",
              " 'formal': 742,\n",
              " 'volume': 743,\n",
              " 'deep': 744,\n",
              " 'bedroom': 745,\n",
              " 'window': 746,\n",
              " 'bags': 747,\n",
              " 'copper': 748,\n",
              " 'form': 749,\n",
              " 'anywhere': 750,\n",
              " 'remove': 751,\n",
              " 'steam': 752,\n",
              " 'education': 753,\n",
              " '5mm': 754,\n",
              " 'floor': 755,\n",
              " 'kurta': 756,\n",
              " 'wardrobe': 757,\n",
              " 'noise': 758,\n",
              " 'dvd': 759,\n",
              " 'wearing': 760,\n",
              " 'garden': 761,\n",
              " 'original': 762,\n",
              " 'kg': 763,\n",
              " 'several': 764,\n",
              " 'stories': 765,\n",
              " 'silk': 766,\n",
              " 'live': 767,\n",
              " 'v': 768,\n",
              " 'were': 769,\n",
              " 'cord': 770,\n",
              " 'everyday': 771,\n",
              " 'allow': 772,\n",
              " 'edge': 773,\n",
              " 'variety': 774,\n",
              " 'let': 775,\n",
              " 'foot': 776,\n",
              " 'accessory': 777,\n",
              " '60': 778,\n",
              " 'here': 779,\n",
              " 'transparent': 780,\n",
              " 'start': 781,\n",
              " 'band': 782,\n",
              " 'company': 783,\n",
              " 'public': 784,\n",
              " 'silicone': 785,\n",
              " 'innovative': 786,\n",
              " 'com': 787,\n",
              " 'ml': 788,\n",
              " 'general': 789,\n",
              " 'curtain': 790,\n",
              " 'knife': 791,\n",
              " 'decoration': 792,\n",
              " 'extremely': 793,\n",
              " 'film': 794,\n",
              " 'it’s': 795,\n",
              " 'maker': 796,\n",
              " 'readers': 797,\n",
              " 'sofa': 798,\n",
              " 'charge': 799,\n",
              " 'learning': 800,\n",
              " 'child': 801,\n",
              " 'media': 802,\n",
              " 'ice': 803,\n",
              " 'colours': 804,\n",
              " 'ring': 805,\n",
              " 'medium': 806,\n",
              " 'point': 807,\n",
              " 'specification': 808,\n",
              " 'motor': 809,\n",
              " 'true': 810,\n",
              " 'requirements': 811,\n",
              " 'bottle': 812,\n",
              " 'contains': 813,\n",
              " 'days': 814,\n",
              " 'n': 815,\n",
              " 'bass': 816,\n",
              " 'ceramic': 817,\n",
              " 'published': 818,\n",
              " 'wet': 819,\n",
              " 'beauty': 820,\n",
              " 'hp': 821,\n",
              " 'contemporary': 822,\n",
              " 'running': 823,\n",
              " 'mouse': 824,\n",
              " 'choose': 825,\n",
              " 'uses': 826,\n",
              " 'few': 827,\n",
              " 'order': 828,\n",
              " 'desktop': 829,\n",
              " 'longer': 830,\n",
              " 'show': 831,\n",
              " 'across': 832,\n",
              " 'glasses': 833,\n",
              " 'network': 834,\n",
              " 'jacket': 835,\n",
              " 'amazing': 836,\n",
              " 'process': 837,\n",
              " 'basic': 838,\n",
              " 'turn': 839,\n",
              " 'plate': 840,\n",
              " 'cap': 841,\n",
              " 'enhance': 842,\n",
              " 'elastic': 843,\n",
              " 'perfectly': 844,\n",
              " 'understand': 845,\n",
              " 'yellow': 846,\n",
              " 'rubber': 847,\n",
              " 'uv': 848,\n",
              " 'vary': 849,\n",
              " 'fm': 850,\n",
              " 'above': 851,\n",
              " 'thermal': 852,\n",
              " 'strap': 853,\n",
              " 'training': 854,\n",
              " 'ac': 855,\n",
              " 'cameras': 856,\n",
              " 'stay': 857,\n",
              " 'blade': 858,\n",
              " 'avoid': 859,\n",
              " 'jeans': 860,\n",
              " '32': 861,\n",
              " 'bean': 862,\n",
              " 'writer': 863,\n",
              " 'details': 864,\n",
              " 'everything': 865,\n",
              " 'become': 866,\n",
              " 'designer': 867,\n",
              " 'minutes': 868,\n",
              " 'indoor': 869,\n",
              " 'efficient': 870,\n",
              " 'field': 871,\n",
              " 'think': 872,\n",
              " 'yes': 873,\n",
              " 'tie': 874,\n",
              " 'egg': 875,\n",
              " 'things': 876,\n",
              " 'within': 877,\n",
              " 'serving': 878,\n",
              " 'contact': 879,\n",
              " 'post': 880,\n",
              " 'flat': 881,\n",
              " 'operation': 882,\n",
              " 'popular': 883,\n",
              " 'images': 884,\n",
              " 'star': 885,\n",
              " 'value': 886,\n",
              " 'pan': 887,\n",
              " 'ethnic': 888,\n",
              " 'microphone': 889,\n",
              " 'language': 890,\n",
              " 'market': 891,\n",
              " 'total': 892,\n",
              " 'chapter': 893,\n",
              " 'blend': 894,\n",
              " 'connection': 895,\n",
              " 'hook': 896,\n",
              " 'medicine': 897,\n",
              " 'next': 898,\n",
              " 'pvc': 899,\n",
              " 'usage': 900,\n",
              " 'action': 901,\n",
              " 'bowl': 902,\n",
              " 'cd': 903,\n",
              " 'shorts': 904,\n",
              " 'healthy': 905,\n",
              " 'basket': 906,\n",
              " 'prevent': 907,\n",
              " 'f': 908,\n",
              " 'mp3': 909,\n",
              " 'hair': 910,\n",
              " 'square': 911,\n",
              " 'quickly': 912,\n",
              " 'lcd': 913,\n",
              " 'pad': 914,\n",
              " 'tray': 915,\n",
              " 'current': 916,\n",
              " 'distance': 917,\n",
              " 'experts': 918,\n",
              " 'settings': 919,\n",
              " 'combination': 920,\n",
              " 'completely': 921,\n",
              " 'effect': 922,\n",
              " 'handy': 923,\n",
              " 'gaming': 924,\n",
              " 'novel': 925,\n",
              " 'might': 926,\n",
              " 'pictures': 927,\n",
              " 'software': 928,\n",
              " 'saving': 929,\n",
              " 'batteries': 930,\n",
              " 'main': 931,\n",
              " 'check': 932,\n",
              " '360': 933,\n",
              " 'install': 934,\n",
              " 'flower': 935,\n",
              " 'money': 936,\n",
              " 'state': 937,\n",
              " 'apple': 938,\n",
              " 'ipad': 939,\n",
              " 'slightly': 940,\n",
              " 'blades': 941,\n",
              " 'sleek': 942,\n",
              " 'engineering': 943,\n",
              " 'samsung': 944,\n",
              " 'cabinet': 945,\n",
              " 'transfer': 946,\n",
              " 'pen': 947,\n",
              " 'eyes': 948,\n",
              " 'clip': 949,\n",
              " '2018': 950,\n",
              " 'five': 951,\n",
              " 'strength': 952,\n",
              " 'pressure': 953,\n",
              " 'supply': 954,\n",
              " 'bright': 955,\n",
              " 'recommended': 956,\n",
              " 'papers': 957,\n",
              " 'royal': 958,\n",
              " 'understanding': 959,\n",
              " 'ports': 960,\n",
              " 'aluminium': 961,\n",
              " 'frequency': 962,\n",
              " 'price': 963,\n",
              " 'providing': 964,\n",
              " 'fi': 965,\n",
              " 'pre': 966,\n",
              " 'multipurpose': 967,\n",
              " 'voice': 968,\n",
              " 'focus': 969,\n",
              " 'heart': 970,\n",
              " 'anyone': 971,\n",
              " 'gloves': 972,\n",
              " 'damage': 973,\n",
              " 'save': 974,\n",
              " 'inner': 975,\n",
              " 'shoe': 976,\n",
              " 'almost': 977,\n",
              " 'sharp': 978,\n",
              " 'sleep': 979,\n",
              " 'text': 980,\n",
              " 'analysis': 981,\n",
              " 'secure': 982,\n",
              " 'source': 983,\n",
              " 'net': 984,\n",
              " 'bath': 985,\n",
              " 'position': 986,\n",
              " 'operating': 987,\n",
              " '80': 988,\n",
              " 'desk': 989,\n",
              " 'past': 990,\n",
              " 'nylon': 991,\n",
              " 'nature': 992,\n",
              " 'customers': 993,\n",
              " 'director': 994,\n",
              " 'track': 995,\n",
              " 'clothing': 996,\n",
              " 'environment': 997,\n",
              " 'cake': 998,\n",
              " 'layer': 999,\n",
              " 'occasion': 1000,\n",
              " ...}"
            ]
          },
          "metadata": {},
          "execution_count": 60
        }
      ]
    },
    {
      "cell_type": "code",
      "source": [
        "\n",
        "def embedding_for_vocab(filepath, word_index,\n",
        "\t\t\t\t\t\tembedding_dim):\n",
        "\tvocab_size = len(word_index) + 1\n",
        "\t\n",
        "\t# Adding again 1 because of reserved 0 index\n",
        "\tembedding_matrix_vocab = np.zeros((vocab_size,\n",
        "\t\t\t\t\t\t\t\t\tembedding_dim))\n",
        "\n",
        "\twith open(filepath, encoding=\"utf8\") as f:\n",
        "\t\tfor line in f:\n",
        "\t\t\tword, *vector = line.split()\n",
        "\t\t\tif word in word_index:\n",
        "\t\t\t\tidx = word_index[word]\n",
        "\t\t\t\tembedding_matrix_vocab[idx] = np.array(\n",
        "\t\t\t\t\tvector, dtype=np.float32)[:embedding_dim]\n",
        "\n",
        "\treturn embedding_matrix_vocab\n",
        "\n",
        "\n",
        "# matrix for vocab: word_index\n",
        "embedding_dim = 100\n",
        "embedding_matrix_vocab = embedding_for_vocab('/content/glove.6B.100d.txt', t.word_index,embedding_dim)\n",
        "\n",
        "print(\"Dense vector for first word is => \",\n",
        "\tembedding_matrix_vocab[3])\n"
      ],
      "metadata": {
        "colab": {
          "base_uri": "https://localhost:8080/"
        },
        "id": "fG6dNtRX1IJY",
        "outputId": "fa2d9c72-c21e-4b0c-daa5-423cbe531f6d"
      },
      "execution_count": null,
      "outputs": [
        {
          "output_type": "stream",
          "name": "stdout",
          "text": [
            "Dense vector for first word is =>  [-0.1529     -0.24279     0.89837003  0.16996001  0.53516001  0.48784\n",
            " -0.58825999 -0.17982    -1.35810006  0.42541     0.15377     0.24214999\n",
            "  0.13474     0.41192999  0.67043    -0.56418002  0.42985001 -0.012183\n",
            " -0.11677     0.31781     0.054177   -0.054273    0.35516    -0.30241001\n",
            "  0.31434    -0.33846     0.71714997 -0.26855001 -0.15837    -0.47466999\n",
            "  0.051581   -0.33252001  0.15003    -0.12989999 -0.54617    -0.37843001\n",
            "  0.64261001  0.82187003 -0.080006    0.078479   -0.96976    -0.57740998\n",
            "  0.56490999 -0.39873001 -0.057099    0.19743     0.065706   -0.48091999\n",
            " -0.20125    -0.40834001  0.39456001 -0.02642    -0.11838     1.01199996\n",
            " -0.53171003 -2.74740005 -0.042981   -0.74848998  1.75740004  0.59085\n",
            "  0.04885     0.78267002  0.38497001  0.42096999  0.67882001  0.10337\n",
            "  0.63279998 -0.026595    0.58647001 -0.44332001  0.33057001 -0.12022\n",
            " -0.55645001  0.073611    0.20915     0.43395001 -0.012761    0.089874\n",
            " -1.79910004  0.084808    0.77112001  0.63104999 -0.90684998  0.60325998\n",
            " -1.75150001  0.18595999 -0.50686997 -0.70203     0.66578001 -0.81304002\n",
            "  0.18712001 -0.018488   -0.26756999  0.727      -0.59363002 -0.34839001\n",
            " -0.56094003 -0.59100002  1.00390005  0.20664001]\n"
          ]
        }
      ]
    },
    {
      "cell_type": "code",
      "source": [
        "embedding_matrix_vocab[3]"
      ],
      "metadata": {
        "colab": {
          "base_uri": "https://localhost:8080/"
        },
        "id": "jKg0liO22r1D",
        "outputId": "74b5e87a-1990-4b8a-c7e3-57630c68b961"
      },
      "execution_count": null,
      "outputs": [
        {
          "output_type": "execute_result",
          "data": {
            "text/plain": [
              "array([-0.1529    , -0.24279   ,  0.89837003,  0.16996001,  0.53516001,\n",
              "        0.48784   , -0.58825999, -0.17982   , -1.35810006,  0.42541   ,\n",
              "        0.15377   ,  0.24214999,  0.13474   ,  0.41192999,  0.67043   ,\n",
              "       -0.56418002,  0.42985001, -0.012183  , -0.11677   ,  0.31781   ,\n",
              "        0.054177  , -0.054273  ,  0.35516   , -0.30241001,  0.31434   ,\n",
              "       -0.33846   ,  0.71714997, -0.26855001, -0.15837   , -0.47466999,\n",
              "        0.051581  , -0.33252001,  0.15003   , -0.12989999, -0.54617   ,\n",
              "       -0.37843001,  0.64261001,  0.82187003, -0.080006  ,  0.078479  ,\n",
              "       -0.96976   , -0.57740998,  0.56490999, -0.39873001, -0.057099  ,\n",
              "        0.19743   ,  0.065706  , -0.48091999, -0.20125   , -0.40834001,\n",
              "        0.39456001, -0.02642   , -0.11838   ,  1.01199996, -0.53171003,\n",
              "       -2.74740005, -0.042981  , -0.74848998,  1.75740004,  0.59085   ,\n",
              "        0.04885   ,  0.78267002,  0.38497001,  0.42096999,  0.67882001,\n",
              "        0.10337   ,  0.63279998, -0.026595  ,  0.58647001, -0.44332001,\n",
              "        0.33057001, -0.12022   , -0.55645001,  0.073611  ,  0.20915   ,\n",
              "        0.43395001, -0.012761  ,  0.089874  , -1.79910004,  0.084808  ,\n",
              "        0.77112001,  0.63104999, -0.90684998,  0.60325998, -1.75150001,\n",
              "        0.18595999, -0.50686997, -0.70203   ,  0.66578001, -0.81304002,\n",
              "        0.18712001, -0.018488  , -0.26756999,  0.727     , -0.59363002,\n",
              "       -0.34839001, -0.56094003, -0.59100002,  1.00390005,  0.20664001])"
            ]
          },
          "metadata": {},
          "execution_count": 56
        }
      ]
    },
    {
      "cell_type": "code",
      "source": [
        "embedding_matrix_vocab[padded_docs[0][2]]"
      ],
      "metadata": {
        "colab": {
          "base_uri": "https://localhost:8080/"
        },
        "id": "oIf4v5Xc5Kjm",
        "outputId": "e3054661-10c8-45d8-ee1b-c0717acef6f5"
      },
      "execution_count": null,
      "outputs": [
        {
          "output_type": "execute_result",
          "data": {
            "text/plain": [
              "array([ 3.02399993e-02,  4.46060002e-01,  4.31659997e-01, -3.75279993e-01,\n",
              "        2.90679991e-01,  2.30320007e-01,  1.81250006e-01,  4.02009994e-01,\n",
              "        1.35179996e-01, -1.95620000e-01,  3.06389987e-01, -1.32390007e-01,\n",
              "        6.78969979e-01,  4.22340006e-01,  3.26370001e-01, -1.52810007e-01,\n",
              "        3.76980007e-01, -2.33030006e-01, -3.38169992e-01,  3.05880010e-01,\n",
              "        4.49180007e-01, -8.36239994e-01,  5.91459990e-01,  2.49579996e-01,\n",
              "        3.99859995e-01, -5.01720011e-01, -2.35440001e-01, -1.46960005e-01,\n",
              "       -3.51440012e-01, -5.68520010e-01,  8.95399973e-02,  8.26120019e-01,\n",
              "       -2.65859991e-01,  3.90300006e-01, -3.68489996e-02,  4.82569993e-01,\n",
              "        7.16639996e-01,  1.10040002e-01, -5.93540013e-01, -3.32159996e-01,\n",
              "       -2.57360011e-01, -3.45310003e-01, -2.63260007e-02, -2.37470001e-01,\n",
              "        1.96559995e-04, -2.74800003e-01,  3.85120004e-01, -3.95810008e-01,\n",
              "        1.14040002e-01, -2.51740009e-01, -3.24699998e-01,  8.96079987e-02,\n",
              "        2.49290004e-01,  1.51269996e+00, -1.97620004e-01, -2.85089993e+00,\n",
              "       -5.38330019e-01, -4.71109986e-01,  1.78590000e+00,  7.81260014e-01,\n",
              "       -1.29629999e-01,  5.60769975e-01,  3.21509987e-01,  3.55710000e-01,\n",
              "        8.45470011e-01,  1.49309993e-01,  1.14869997e-01,  3.06250006e-01,\n",
              "        5.47739983e-01, -5.04260004e-01,  3.38239998e-01, -6.20429993e-01,\n",
              "       -1.28690004e-02,  6.66659996e-02,  6.27309978e-02, -4.45340008e-01,\n",
              "        1.55410007e-01,  2.18009993e-01, -1.73199999e+00,  4.20540005e-01,\n",
              "        3.63189995e-01, -7.22580031e-02, -7.48109996e-01,  1.98880002e-01,\n",
              "       -1.44610000e+00, -2.75759995e-01,  2.66460001e-01, -5.78379989e-01,\n",
              "        5.61510026e-01, -2.87009999e-02, -2.46600002e-01, -4.25000012e-01,\n",
              "       -5.71539998e-01,  3.19389999e-01, -2.20750004e-01,  4.65279996e-01,\n",
              "       -1.66060001e-01, -7.99229980e-01,  8.08489978e-01,  3.73780012e-01])"
            ]
          },
          "metadata": {},
          "execution_count": 62
        }
      ]
    },
    {
      "cell_type": "code",
      "source": [
        "padded_docs.shape[1]"
      ],
      "metadata": {
        "colab": {
          "base_uri": "https://localhost:8080/"
        },
        "id": "XWn-ZK3l6miq",
        "outputId": "5d76878e-9fd1-4495-f266-3dd71309ac8d"
      },
      "execution_count": null,
      "outputs": [
        {
          "output_type": "execute_result",
          "data": {
            "text/plain": [
              "20"
            ]
          },
          "metadata": {},
          "execution_count": 65
        }
      ]
    },
    {
      "cell_type": "code",
      "source": [
        "W2Vec_Data=pd.DataFrame()\n",
        "for i in range(padded_docs.shape[0]):\n",
        "  Sentence = np.zeros(100)\n",
        "  for j in range(padded_docs.shape[1]):\n",
        "    Sentence=Sentence+embedding_matrix_vocab[padded_docs[i][j]]\n",
        "  W2Vec_Data=W2Vec_Data.append(pd.DataFrame([Sentence]))\n",
        "\n"
      ],
      "metadata": {
        "id": "yItV2KNu6hl0"
      },
      "execution_count": null,
      "outputs": []
    },
    {
      "cell_type": "code",
      "source": [
        "W2Vec_Data.shape"
      ],
      "metadata": {
        "id": "Cy16fUR26hiA"
      },
      "execution_count": null,
      "outputs": []
    },
    {
      "cell_type": "code",
      "source": [
        "from sklearn.ensemble import RandomForestClassifier"
      ],
      "metadata": {
        "id": "Te-4rKGk6hfQ"
      },
      "execution_count": null,
      "outputs": []
    },
    {
      "cell_type": "code",
      "source": [
        "clf = RandomForestClassifier(n_estimators = 50) \n",
        " \n",
        "# Training the model on the training dataset\n",
        "# fit function is used to train the model using the training sets as parameters\n",
        "clf.fit(X_train, y_train)\n",
        " "
      ],
      "metadata": {
        "id": "y3_4iJrU6hbs",
        "colab": {
          "base_uri": "https://localhost:8080/"
        },
        "outputId": "cadebb39-f77c-48c2-f799-0c3369042fa7"
      },
      "execution_count": null,
      "outputs": [
        {
          "output_type": "execute_result",
          "data": {
            "text/plain": [
              "RandomForestClassifier(n_estimators=50)"
            ]
          },
          "metadata": {},
          "execution_count": 60
        }
      ]
    },
    {
      "cell_type": "code",
      "source": [
        "y_pred=clf.predict(X_test)"
      ],
      "metadata": {
        "id": "1kM-rXlCV1Il"
      },
      "execution_count": null,
      "outputs": []
    },
    {
      "cell_type": "code",
      "source": [
        "from sklearn.metrics import classification_report"
      ],
      "metadata": {
        "id": "sJbyH69iV1FG"
      },
      "execution_count": null,
      "outputs": []
    },
    {
      "cell_type": "code",
      "source": [
        "print(classification_report(y_test, y_pred))"
      ],
      "metadata": {
        "colab": {
          "base_uri": "https://localhost:8080/"
        },
        "id": "C5tSeX3X5P-s",
        "outputId": "75c24b2e-e970-4607-8de1-837cea5b94d8"
      },
      "execution_count": null,
      "outputs": [
        {
          "output_type": "stream",
          "name": "stdout",
          "text": [
            "              precision    recall  f1-score   support\n",
            "\n",
            "           0       0.77      0.90      0.83      3529\n",
            "           1       0.85      0.69      0.76      1705\n",
            "           2       0.90      0.88      0.89      2105\n",
            "           3       0.91      0.79      0.85      1820\n",
            "\n",
            "    accuracy                           0.84      9159\n",
            "   macro avg       0.86      0.82      0.83      9159\n",
            "weighted avg       0.84      0.84      0.83      9159\n",
            "\n"
          ]
        }
      ]
    },
    {
      "cell_type": "code",
      "source": [],
      "metadata": {
        "colab": {
          "base_uri": "https://localhost:8080/"
        },
        "id": "Bb4cwkhIcGTr",
        "outputId": "876e90b5-49ff-459a-90c7-6929e75c95d2"
      },
      "execution_count": null,
      "outputs": [
        {
          "output_type": "stream",
          "name": "stdout",
          "text": [
            "Model: \"sequential\"\n",
            "_________________________________________________________________\n",
            " Layer (type)                Output Shape              Param #   \n",
            "=================================================================\n",
            " embedding (Embedding)       (None, 4, 100)            892100    \n",
            "                                                                 \n",
            " flatten (Flatten)           (None, 400)               0         \n",
            "                                                                 \n",
            " dense (Dense)               (None, 1)                 401       \n",
            "                                                                 \n",
            "=================================================================\n",
            "Total params: 892,501\n",
            "Trainable params: 401\n",
            "Non-trainable params: 892,100\n",
            "_________________________________________________________________\n",
            "None\n"
          ]
        }
      ]
    },
    {
      "cell_type": "code",
      "source": [
        "from sklearn.neural_network import MLPClassifier\n",
        "from sklearn.datasets import make_classification\n",
        "from sklearn.model_selection import train_test_split\n"
      ],
      "metadata": {
        "id": "u8IC2iB_X0Y9"
      },
      "execution_count": null,
      "outputs": []
    },
    {
      "cell_type": "code",
      "source": [
        "X_train, X_test, y_train, y_test = train_test_split(W2Vec_Data, sf,test_size=0.33,\n",
        "                                                    random_state=1)"
      ],
      "metadata": {
        "id": "XRgSiS4nYytx"
      },
      "execution_count": null,
      "outputs": []
    },
    {
      "cell_type": "code",
      "source": [
        "\n",
        "clf = MLPClassifier(random_state=1, max_iter=300).fit(X_train, y_train)"
      ],
      "metadata": {
        "id": "-VcWQtmEX0VR"
      },
      "execution_count": null,
      "outputs": []
    },
    {
      "cell_type": "code",
      "source": [
        "y_pred=clf.predict(X_test)"
      ],
      "metadata": {
        "id": "cVAp8tYrX0SK"
      },
      "execution_count": null,
      "outputs": []
    },
    {
      "cell_type": "code",
      "source": [
        "from sklearn.metrics import classification_report"
      ],
      "metadata": {
        "id": "DnMqsxNgX0Pj"
      },
      "execution_count": null,
      "outputs": []
    },
    {
      "cell_type": "code",
      "source": [
        "print(classification_report(y_test, y_pred))"
      ],
      "metadata": {
        "colab": {
          "base_uri": "https://localhost:8080/"
        },
        "id": "G7NOeZ8AX0M-",
        "outputId": "6b2eaa66-c17c-4ca1-8ed5-faf30a6bd616"
      },
      "execution_count": null,
      "outputs": [
        {
          "output_type": "stream",
          "name": "stdout",
          "text": [
            "              precision    recall  f1-score   support\n",
            "\n",
            "           0       0.84      0.79      0.81      3529\n",
            "           1       0.73      0.75      0.74      1705\n",
            "           2       0.85      0.87      0.86      2105\n",
            "           3       0.82      0.86      0.84      1820\n",
            "\n",
            "    accuracy                           0.82      9159\n",
            "   macro avg       0.81      0.82      0.81      9159\n",
            "weighted avg       0.82      0.82      0.82      9159\n",
            "\n"
          ]
        }
      ]
    },
    {
      "cell_type": "code",
      "source": [],
      "metadata": {
        "id": "z9DN9GHdX0Kj"
      },
      "execution_count": null,
      "outputs": []
    },
    {
      "cell_type": "code",
      "source": [],
      "metadata": {
        "id": "kEi6cpHMX0H0"
      },
      "execution_count": null,
      "outputs": []
    },
    {
      "cell_type": "code",
      "source": [],
      "metadata": {
        "id": "l80p0xteX0El"
      },
      "execution_count": null,
      "outputs": []
    },
    {
      "cell_type": "code",
      "source": [],
      "metadata": {
        "id": "Fkxi1wLmX0Bj"
      },
      "execution_count": null,
      "outputs": []
    },
    {
      "cell_type": "code",
      "source": [],
      "metadata": {
        "colab": {
          "base_uri": "https://localhost:8080/"
        },
        "id": "dGxZSEFXcGR3",
        "outputId": "c2b15cad-2216-4cbc-97b1-6060109dbefe"
      },
      "execution_count": null,
      "outputs": [
        {
          "output_type": "stream",
          "name": "stdout",
          "text": [
            "Accuracy: 96.102387\n"
          ]
        }
      ]
    },
    {
      "cell_type": "code",
      "source": [
        "from sklearn.svm import LinearSVC\n"
      ],
      "metadata": {
        "id": "la4kxDWUcGPu"
      },
      "execution_count": null,
      "outputs": []
    },
    {
      "cell_type": "code",
      "source": [
        "lsvc = LinearSVC(verbose=0)"
      ],
      "metadata": {
        "id": "IcQGSdZncGMM"
      },
      "execution_count": null,
      "outputs": []
    },
    {
      "cell_type": "code",
      "source": [
        "lsvc.fit(W2Vec_Data, sf)\n",
        "\n",
        "\n"
      ],
      "metadata": {
        "id": "UNITLa9kcdMB",
        "colab": {
          "base_uri": "https://localhost:8080/"
        },
        "outputId": "dccd73f8-351c-4e4a-bde2-53edf67b6aed"
      },
      "execution_count": null,
      "outputs": [
        {
          "output_type": "stream",
          "name": "stderr",
          "text": [
            "/usr/local/lib/python3.7/dist-packages/sklearn/svm/_base.py:1208: ConvergenceWarning: Liblinear failed to converge, increase the number of iterations.\n",
            "  ConvergenceWarning,\n"
          ]
        },
        {
          "output_type": "execute_result",
          "data": {
            "text/plain": [
              "LinearSVC()"
            ]
          },
          "metadata": {},
          "execution_count": 69
        }
      ]
    },
    {
      "cell_type": "code",
      "source": [
        "y_pred=lsvc.predict(W2Vec_Data)"
      ],
      "metadata": {
        "id": "RCDlad6HcdJb"
      },
      "execution_count": null,
      "outputs": []
    },
    {
      "cell_type": "code",
      "source": [
        "from sklearn.metrics import classification_report"
      ],
      "metadata": {
        "id": "qL363eJacdGZ"
      },
      "execution_count": null,
      "outputs": []
    },
    {
      "cell_type": "code",
      "source": [
        "print(classification_report(sf, y_pred))"
      ],
      "metadata": {
        "colab": {
          "base_uri": "https://localhost:8080/"
        },
        "id": "JZnU10af9jUe",
        "outputId": "1669a100-76c1-4f55-8260-f98f244dbb8e"
      },
      "execution_count": null,
      "outputs": [
        {
          "output_type": "stream",
          "name": "stdout",
          "text": [
            "              precision    recall  f1-score   support\n",
            "\n",
            "           0       0.78      0.76      0.77     10562\n",
            "           1       0.73      0.69      0.71      5304\n",
            "           2       0.75      0.92      0.83      6221\n",
            "           3       0.84      0.73      0.78      5667\n",
            "\n",
            "    accuracy                           0.78     27754\n",
            "   macro avg       0.78      0.77      0.77     27754\n",
            "weighted avg       0.78      0.78      0.77     27754\n",
            "\n"
          ]
        }
      ]
    },
    {
      "cell_type": "code",
      "source": [],
      "metadata": {
        "id": "bfgioyUo9jRJ"
      },
      "execution_count": null,
      "outputs": []
    },
    {
      "cell_type": "code",
      "source": [
        "from gensim.models.poincare import PoincareModel, PoincareRelations\n",
        "from gensim.test.utils import datapath\n"
      ],
      "metadata": {
        "id": "QpLq8PjZ98hq"
      },
      "execution_count": null,
      "outputs": []
    },
    {
      "cell_type": "code",
      "source": [
        "file_path = datapath('/content/drive/MyDrive/BTP/ecommerceDataset.csv')\n",
        "#model = PoincareModel(PoincareRelations(file_path), negative=2)\n"
      ],
      "metadata": {
        "id": "YMgRVE2M98a_"
      },
      "execution_count": null,
      "outputs": []
    },
    {
      "cell_type": "code",
      "source": [
        "model"
      ],
      "metadata": {
        "id": "f98ynhCm-lpM"
      },
      "execution_count": null,
      "outputs": []
    },
    {
      "cell_type": "code",
      "source": [
        "model.train(epochs=50)"
      ],
      "metadata": {
        "id": "AXlLJRGn98XN"
      },
      "execution_count": null,
      "outputs": []
    },
    {
      "cell_type": "code",
      "source": [],
      "metadata": {
        "id": "Ps-_Uu6O98Tx"
      },
      "execution_count": null,
      "outputs": []
    },
    {
      "cell_type": "code",
      "source": [
        "# load the whole embedding into memory\n",
        "embeddings_index = dict()\n",
        "f = open('/content/drive/MyDrive/BTP/poincare_glove_50x2D_cosh-dist-sq_init_trick.txt')\n",
        "for line in f:\n",
        "\tvalues = line.split()\n",
        "\tword = values[0]\n",
        "\tcoefs = asarray(values[1:], dtype='float32')\n",
        "\tembeddings_index[word] = coefs\n",
        "f.close()\n",
        "print('Loaded %s word vectors.' % len(embeddings_index))"
      ],
      "metadata": {
        "colab": {
          "base_uri": "https://localhost:8080/"
        },
        "id": "Q9vNgC7jBDgz",
        "outputId": "02621309-654d-4db3-f945-71a2cb39d7a8"
      },
      "execution_count": null,
      "outputs": [
        {
          "output_type": "stream",
          "name": "stdout",
          "text": [
            "Loaded 189534 word vectors.\n"
          ]
        }
      ]
    },
    {
      "cell_type": "code",
      "source": [
        "# create a weight matrix for words in training docs\n",
        "embedding_matrix = zeros((vocab_size, 100))\n",
        "for word, i in t.word_index.items():\n",
        "\tembedding_vector = embeddings_index.get(word)\n",
        "\tif embedding_vector is not None:\n",
        "\t\tembedding_matrix[i] = embedding_vector"
      ],
      "metadata": {
        "id": "0CBHSXjcBDd9"
      },
      "execution_count": null,
      "outputs": []
    },
    {
      "cell_type": "code",
      "source": [
        "embedding_matrix"
      ],
      "metadata": {
        "colab": {
          "base_uri": "https://localhost:8080/"
        },
        "id": "PiFpzzmNBDbK",
        "outputId": "6d52769f-0b12-4e14-80dd-fbe0512eec23"
      },
      "execution_count": null,
      "outputs": [
        {
          "output_type": "execute_result",
          "data": {
            "text/plain": [
              "array([[ 0.   ,  0.   ,  0.   , ...,  0.   ,  0.   ,  0.   ],\n",
              "       [ 0.024,  0.019,  0.096, ...,  0.07 , -0.009,  0.142],\n",
              "       [ 0.042,  0.026,  0.077, ...,  0.07 , -0.079,  0.09 ],\n",
              "       ...,\n",
              "       [ 0.   ,  0.   ,  0.   , ...,  0.   ,  0.   ,  0.   ],\n",
              "       [ 0.   ,  0.   ,  0.   , ...,  0.   ,  0.   ,  0.   ],\n",
              "       [ 0.   ,  0.   ,  0.   , ...,  0.   ,  0.   ,  0.   ]])"
            ]
          },
          "metadata": {},
          "execution_count": 66
        }
      ]
    },
    {
      "cell_type": "code",
      "source": [
        "\n",
        "def embedding_for_vocab(filepath, word_index,\n",
        "\t\t\t\t\t\tembedding_dim):\n",
        "\tvocab_size = len(word_index) + 1\n",
        "\t\n",
        "\t# Adding again 1 because of reserved 0 index\n",
        "\tembedding_matrix_vocab = np.zeros((vocab_size,\n",
        "\t\t\t\t\t\t\t\t\tembedding_dim))\n",
        "\n",
        "\twith open(filepath, encoding=\"utf8\") as f:\n",
        "\t\tfor line in f:\n",
        "\t\t\tword, *vector = line.split()\n",
        "\t\t\tif word in word_index:\n",
        "\t\t\t\tidx = word_index[word]\n",
        "\t\t\t\tembedding_matrix_vocab[idx] = np.array(\n",
        "\t\t\t\t\tvector, dtype=np.float32)[:embedding_dim]\n",
        "\n",
        "\treturn embedding_matrix_vocab\n",
        "\n",
        "\n",
        "# matrix for vocab: word_index\n",
        "embedding_dim = 100\n",
        "embedding_matrix_vocab = embedding_for_vocab(\n",
        "\t'/content/drive/MyDrive/BTP/poincare_glove_50x2D_cosh-dist-sq_init_trick.txt', t.word_index,\n",
        "embedding_dim)\n",
        "\n",
        "print(\"Dense vector for first word is => \",\n",
        "\tembedding_matrix_vocab[3])\n"
      ],
      "metadata": {
        "colab": {
          "base_uri": "https://localhost:8080/"
        },
        "id": "79dnp9GPBDYV",
        "outputId": "e6ba4365-3a9d-4073-de41-e6cfe963af2c"
      },
      "execution_count": null,
      "outputs": [
        {
          "output_type": "stream",
          "name": "stdout",
          "text": [
            "Dense vector for first word is =>  [ 0.042  0.013  0.178  0.066 -0.083 -0.021  0.046 -0.024  0.026  0.095\n",
            "  0.064 -0.109  0.049  0.028 -0.052 -0.046 -0.026 -0.08   0.087  0.006\n",
            "  0.097 -0.034 -0.087 -0.015  0.014  0.13   0.073 -0.01   0.003 -0.123\n",
            "  0.064  0.028 -0.002 -0.064 -0.105 -0.041  0.018  0.012  0.015 -0.026\n",
            " -0.085  0.032  0.035  0.007  0.03  -0.074 -0.082 -0.024 -0.069 -0.063\n",
            " -0.064  0.009 -0.082 -0.118 -0.11  -0.033 -0.108 -0.094  0.007 -0.121\n",
            "  0.003 -0.062  0.053 -0.029 -0.017 -0.091  0.087 -0.123 -0.066 -0.081\n",
            " -0.031 -0.079  0.068 -0.101 -0.02  -0.078 -0.029  0.052 -0.014  0.025\n",
            "  0.054 -0.083  0.055 -0.114 -0.037 -0.096 -0.082  0.079  0.092 -0.018\n",
            "  0.015  0.025  0.061 -0.076 -0.027 -0.035  0.045  0.025 -0.059  0.086]\n"
          ]
        }
      ]
    },
    {
      "cell_type": "code",
      "source": [
        "W2Ve_Data=pd.DataFrame()\n",
        "for i in range(padded_docs.shape[0]):\n",
        "  Sentenc = np.zeros(100)\n",
        "  for j in range(padded_docs.shape[1]):\n",
        "    Sentenc=Sentenc+embedding_matrix_vocab[padded_docs[i][j]]\n",
        "  W2Ve_Data=W2Ve_Data.append(pd.DataFrame([Sentenc]))\n",
        "\n"
      ],
      "metadata": {
        "id": "qTr7Hz2mBDVa"
      },
      "execution_count": null,
      "outputs": []
    },
    {
      "cell_type": "code",
      "source": [
        "from sklearn.neural_network import MLPClassifier\n",
        "from sklearn.datasets import make_classification\n",
        "from sklearn.model_selection import train_test_split\n"
      ],
      "metadata": {
        "id": "BIz-Ju_ucotK"
      },
      "execution_count": null,
      "outputs": []
    },
    {
      "cell_type": "code",
      "source": [
        "X_train, X_test, y_train, y_test = train_test_split(W2Ve_Data, sf,test_size=0.33,\n",
        "                                                    random_state=1)"
      ],
      "metadata": {
        "id": "5LPBVE9kcoqI"
      },
      "execution_count": null,
      "outputs": []
    },
    {
      "cell_type": "code",
      "source": [
        "\n",
        "clf = MLPClassifier(random_state=1, max_iter=300).fit(X_train, y_train)"
      ],
      "metadata": {
        "colab": {
          "base_uri": "https://localhost:8080/"
        },
        "id": "wCpo9q10cono",
        "outputId": "0dfa4e7d-b3e0-4268-e69e-f4edecd7eaeb"
      },
      "execution_count": null,
      "outputs": [
        {
          "output_type": "stream",
          "name": "stderr",
          "text": [
            "/usr/local/lib/python3.7/dist-packages/sklearn/neural_network/_multilayer_perceptron.py:696: ConvergenceWarning: Stochastic Optimizer: Maximum iterations (300) reached and the optimization hasn't converged yet.\n",
            "  ConvergenceWarning,\n"
          ]
        }
      ]
    },
    {
      "cell_type": "code",
      "source": [
        "y_pred=clf.predict(X_test)"
      ],
      "metadata": {
        "id": "WuZwx0ebcolJ"
      },
      "execution_count": null,
      "outputs": []
    },
    {
      "cell_type": "code",
      "source": [
        "from sklearn.metrics import classification_report"
      ],
      "metadata": {
        "id": "cwTMu7Gycoip"
      },
      "execution_count": null,
      "outputs": []
    },
    {
      "cell_type": "code",
      "source": [
        "print(classification_report(y_test, y_pred))"
      ],
      "metadata": {
        "colab": {
          "base_uri": "https://localhost:8080/"
        },
        "id": "lgEH_pprcogM",
        "outputId": "12559b53-ff0b-4613-ae0f-fce27a47d7ac"
      },
      "execution_count": null,
      "outputs": [
        {
          "output_type": "stream",
          "name": "stdout",
          "text": [
            "              precision    recall  f1-score   support\n",
            "\n",
            "           0       0.79      0.88      0.83      3529\n",
            "           1       0.80      0.72      0.76      1705\n",
            "           2       0.89      0.90      0.90      2105\n",
            "           3       0.89      0.78      0.83      1820\n",
            "\n",
            "    accuracy                           0.83      9159\n",
            "   macro avg       0.84      0.82      0.83      9159\n",
            "weighted avg       0.84      0.83      0.83      9159\n",
            "\n"
          ]
        }
      ]
    },
    {
      "cell_type": "code",
      "source": [
        "clf = RandomForestClassifier(n_estimators = 50) \n",
        " \n",
        "# Training the model on the training dataset\n",
        "# fit function is used to train the model using the training sets as parameters\n",
        "clf.fit(X_train, y_train)\n",
        " "
      ],
      "metadata": {
        "colab": {
          "base_uri": "https://localhost:8080/"
        },
        "id": "442gFEdpc_zT",
        "outputId": "fe154b79-b8a1-477e-f978-b93d452fc830"
      },
      "execution_count": null,
      "outputs": [
        {
          "output_type": "execute_result",
          "data": {
            "text/plain": [
              "RandomForestClassifier(n_estimators=50)"
            ]
          },
          "metadata": {},
          "execution_count": 84
        }
      ]
    },
    {
      "cell_type": "code",
      "source": [
        "y_pred=clf.predict(X_test)"
      ],
      "metadata": {
        "id": "lvfUyEgDc_wB"
      },
      "execution_count": null,
      "outputs": []
    },
    {
      "cell_type": "code",
      "source": [
        "from sklearn.metrics import classification_report"
      ],
      "metadata": {
        "id": "hxaKQkT7c_t1"
      },
      "execution_count": null,
      "outputs": []
    },
    {
      "cell_type": "code",
      "source": [
        "print(classification_report(y_test, y_pred))"
      ],
      "metadata": {
        "colab": {
          "base_uri": "https://localhost:8080/"
        },
        "id": "HBrSwL7-c_o_",
        "outputId": "0bc9c4b5-c6ea-4c3e-bb75-1fdd742663c0"
      },
      "execution_count": null,
      "outputs": [
        {
          "output_type": "stream",
          "name": "stdout",
          "text": [
            "              precision    recall  f1-score   support\n",
            "\n",
            "           0       0.75      0.91      0.82      3529\n",
            "           1       0.84      0.66      0.74      1705\n",
            "           2       0.91      0.88      0.89      2105\n",
            "           3       0.91      0.76      0.83      1820\n",
            "\n",
            "    accuracy                           0.82      9159\n",
            "   macro avg       0.85      0.80      0.82      9159\n",
            "weighted avg       0.83      0.82      0.82      9159\n",
            "\n"
          ]
        }
      ]
    },
    {
      "cell_type": "code",
      "source": [],
      "metadata": {
        "id": "F12rJb7vc_mJ"
      },
      "execution_count": null,
      "outputs": []
    },
    {
      "cell_type": "code",
      "source": [],
      "metadata": {
        "id": "OCsYyp3RcodY"
      },
      "execution_count": null,
      "outputs": []
    },
    {
      "cell_type": "code",
      "source": [],
      "metadata": {
        "id": "MZQ1t6Jjcoa1"
      },
      "execution_count": null,
      "outputs": []
    },
    {
      "cell_type": "code",
      "source": [
        "from sklearn.svm import LinearSVC\n"
      ],
      "metadata": {
        "id": "6Ck1SPPhBDSl"
      },
      "execution_count": null,
      "outputs": []
    },
    {
      "cell_type": "code",
      "source": [
        "lsvc = LinearSVC(verbose=0)"
      ],
      "metadata": {
        "id": "x8ToLXqgBDPv"
      },
      "execution_count": null,
      "outputs": []
    },
    {
      "cell_type": "code",
      "source": [
        "lsvc.fit(W2Ve_Data, sf)\n",
        "\n",
        "\n"
      ],
      "metadata": {
        "colab": {
          "base_uri": "https://localhost:8080/"
        },
        "id": "uGxbhgY0BDNJ",
        "outputId": "8ee667a0-34e6-46e1-ed84-4e12966cc946"
      },
      "execution_count": null,
      "outputs": [
        {
          "output_type": "stream",
          "name": "stderr",
          "text": [
            "/usr/local/lib/python3.7/dist-packages/sklearn/svm/_base.py:1208: ConvergenceWarning: Liblinear failed to converge, increase the number of iterations.\n",
            "  ConvergenceWarning,\n"
          ]
        },
        {
          "output_type": "execute_result",
          "data": {
            "text/plain": [
              "LinearSVC()"
            ]
          },
          "metadata": {},
          "execution_count": 85
        }
      ]
    },
    {
      "cell_type": "code",
      "source": [
        "y_pred=lsvc.predict(W2Ve_Data)"
      ],
      "metadata": {
        "id": "vlaxJD07BDKF"
      },
      "execution_count": null,
      "outputs": []
    },
    {
      "cell_type": "code",
      "source": [
        "from sklearn.metrics import classification_report"
      ],
      "metadata": {
        "id": "qGQhzwqVBDG-"
      },
      "execution_count": null,
      "outputs": []
    },
    {
      "cell_type": "code",
      "source": [
        "print(classification_report(sf, y_pred))"
      ],
      "metadata": {
        "colab": {
          "base_uri": "https://localhost:8080/"
        },
        "id": "-FwngGj798QN",
        "outputId": "4541a14d-b5eb-41e3-810d-798f66f8dd04"
      },
      "execution_count": null,
      "outputs": [
        {
          "output_type": "stream",
          "name": "stdout",
          "text": [
            "              precision    recall  f1-score   support\n",
            "\n",
            "           0       0.77      0.84      0.80     10562\n",
            "           1       0.81      0.68      0.74      5304\n",
            "           2       0.87      0.90      0.89      6221\n",
            "           3       0.81      0.76      0.78      5667\n",
            "\n",
            "    accuracy                           0.81     27754\n",
            "   macro avg       0.81      0.79      0.80     27754\n",
            "weighted avg       0.81      0.81      0.80     27754\n",
            "\n"
          ]
        }
      ]
    },
    {
      "cell_type": "code",
      "source": [],
      "metadata": {
        "id": "_vhE_EJ7FRY2"
      },
      "execution_count": null,
      "outputs": []
    },
    {
      "cell_type": "code",
      "source": [
        "from sklearn.model_selection import cross_val_score\n"
      ],
      "metadata": {
        "id": "PnUeKqX898Mj"
      },
      "execution_count": null,
      "outputs": []
    },
    {
      "cell_type": "code",
      "source": [
        "lsvc = LinearSVC(C=1, random_state=42,scoring='accuracy')"
      ],
      "metadata": {
        "id": "hpGOSiH6Fe_C"
      },
      "execution_count": null,
      "outputs": []
    },
    {
      "cell_type": "code",
      "source": [
        "\n",
        "scores = cross_val_score(lsvc, W2Ve_Data, sf, cv=5)\n",
        "scores\n"
      ],
      "metadata": {
        "colab": {
          "base_uri": "https://localhost:8080/"
        },
        "id": "FThZ6Q6B98JG",
        "outputId": "585df2fe-636b-45d5-83ac-c40b64e4ca0f"
      },
      "execution_count": null,
      "outputs": [
        {
          "output_type": "stream",
          "name": "stderr",
          "text": [
            "/usr/local/lib/python3.7/dist-packages/sklearn/svm/_base.py:1208: ConvergenceWarning: Liblinear failed to converge, increase the number of iterations.\n",
            "  ConvergenceWarning,\n",
            "/usr/local/lib/python3.7/dist-packages/sklearn/svm/_base.py:1208: ConvergenceWarning: Liblinear failed to converge, increase the number of iterations.\n",
            "  ConvergenceWarning,\n",
            "/usr/local/lib/python3.7/dist-packages/sklearn/svm/_base.py:1208: ConvergenceWarning: Liblinear failed to converge, increase the number of iterations.\n",
            "  ConvergenceWarning,\n",
            "/usr/local/lib/python3.7/dist-packages/sklearn/svm/_base.py:1208: ConvergenceWarning: Liblinear failed to converge, increase the number of iterations.\n",
            "  ConvergenceWarning,\n",
            "/usr/local/lib/python3.7/dist-packages/sklearn/svm/_base.py:1208: ConvergenceWarning: Liblinear failed to converge, increase the number of iterations.\n",
            "  ConvergenceWarning,\n"
          ]
        },
        {
          "output_type": "execute_result",
          "data": {
            "text/plain": [
              "array([0.77733742, 0.77643668, 0.81030445, 0.78346244, 0.79063063])"
            ]
          },
          "metadata": {},
          "execution_count": 93
        }
      ]
    },
    {
      "cell_type": "code",
      "source": [],
      "metadata": {
        "id": "lPoMLjdh98EK"
      },
      "execution_count": null,
      "outputs": []
    },
    {
      "cell_type": "code",
      "source": [],
      "metadata": {
        "id": "NlG4XDQ19jN9"
      },
      "execution_count": null,
      "outputs": []
    },
    {
      "cell_type": "code",
      "source": [],
      "metadata": {
        "id": "IgcGZz5n9jKj"
      },
      "execution_count": null,
      "outputs": []
    },
    {
      "cell_type": "code",
      "source": [],
      "metadata": {
        "id": "y9vPEoQgcdD9"
      },
      "execution_count": null,
      "outputs": []
    },
    {
      "cell_type": "code",
      "source": [
        "def loading_embeddings():\n",
        "    #“”” loading glove embeddings “””\n",
        "    embeddings_index = {}\n",
        "    f = open('/content/glove.6B.100d.txt', encoding=\"utf8\") # loading the file\n",
        "    for line in f:\n",
        "        values = line.split()\n",
        "        word = values[0]\n",
        "        coefs = np.asarray(values[1:], dtype='float32')\n",
        "        embeddings_index[word] = coefs\n",
        "    f.close()\n",
        "    return embeddings_index"
      ],
      "metadata": {
        "id": "J0JRJEMdTSkI"
      },
      "execution_count": null,
      "outputs": []
    },
    {
      "cell_type": "code",
      "source": [
        "from keras.preprocessing.sequence import pad_sequences\n"
      ],
      "metadata": {
        "colab": {
          "base_uri": "https://localhost:8080/",
          "height": 321
        },
        "id": "C4GWzJnVzOFO",
        "outputId": "878bb345-6f65-4c44-8214-abdab13ec5f6"
      },
      "execution_count": null,
      "outputs": [
        {
          "output_type": "error",
          "ename": "ImportError",
          "evalue": "ignored",
          "traceback": [
            "\u001b[0;31m---------------------------------------------------------------------------\u001b[0m",
            "\u001b[0;31mImportError\u001b[0m                               Traceback (most recent call last)",
            "\u001b[0;32m<ipython-input-21-0b5b3f0da764>\u001b[0m in \u001b[0;36m<module>\u001b[0;34m\u001b[0m\n\u001b[0;32m----> 1\u001b[0;31m \u001b[0;32mfrom\u001b[0m \u001b[0mkeras\u001b[0m\u001b[0;34m.\u001b[0m\u001b[0mpreprocessing\u001b[0m\u001b[0;34m.\u001b[0m\u001b[0msequence\u001b[0m \u001b[0;32mimport\u001b[0m \u001b[0mpad_sequences\u001b[0m\u001b[0;34m\u001b[0m\u001b[0;34m\u001b[0m\u001b[0m\n\u001b[0m",
            "\u001b[0;31mImportError\u001b[0m: cannot import name 'pad_sequences' from 'keras.preprocessing.sequence' (/usr/local/lib/python3.7/dist-packages/keras/preprocessing/sequence.py)",
            "",
            "\u001b[0;31m---------------------------------------------------------------------------\u001b[0;32m\nNOTE: If your import is failing due to a missing package, you can\nmanually install dependencies using either !pip or !apt.\n\nTo view examples of installing some common dependencies, click the\n\"Open Examples\" button below.\n\u001b[0;31m---------------------------------------------------------------------------\u001b[0m\n"
          ],
          "errorDetails": {
            "actions": [
              {
                "action": "open_url",
                "actionText": "Open Examples",
                "url": "/notebooks/snippets/importing_libraries.ipynb"
              }
            ]
          }
        }
      ]
    },
    {
      "cell_type": "code",
      "source": [],
      "metadata": {
        "id": "-diDZGi5UC9Y",
        "colab": {
          "base_uri": "https://localhost:8080/",
          "height": 373
        },
        "outputId": "c9c3f143-c0a8-4b04-de7f-f7d80ff44f6f"
      },
      "execution_count": null,
      "outputs": [
        {
          "output_type": "error",
          "ename": "ImportError",
          "evalue": "ignored",
          "traceback": [
            "\u001b[0;31m---------------------------------------------------------------------------\u001b[0m",
            "\u001b[0;31mImportError\u001b[0m                               Traceback (most recent call last)",
            "\u001b[0;32m<ipython-input-33-3139657d8ff5>\u001b[0m in \u001b[0;36m<module>\u001b[0;34m\u001b[0m\n\u001b[1;32m      3\u001b[0m \u001b[0;32mfrom\u001b[0m \u001b[0mnumpy\u001b[0m \u001b[0;32mimport\u001b[0m \u001b[0mzeros\u001b[0m\u001b[0;34m\u001b[0m\u001b[0;34m\u001b[0m\u001b[0m\n\u001b[1;32m      4\u001b[0m \u001b[0;32mfrom\u001b[0m \u001b[0mkeras\u001b[0m\u001b[0;34m.\u001b[0m\u001b[0mpreprocessing\u001b[0m\u001b[0;34m.\u001b[0m\u001b[0mtext\u001b[0m \u001b[0;32mimport\u001b[0m \u001b[0mTokenizer\u001b[0m\u001b[0;34m\u001b[0m\u001b[0;34m\u001b[0m\u001b[0m\n\u001b[0;32m----> 5\u001b[0;31m \u001b[0;32mfrom\u001b[0m \u001b[0mkeras\u001b[0m\u001b[0;34m.\u001b[0m\u001b[0mpreprocessing\u001b[0m\u001b[0;34m.\u001b[0m\u001b[0msequence\u001b[0m \u001b[0;32mimport\u001b[0m \u001b[0mpad_sequences\u001b[0m\u001b[0;34m\u001b[0m\u001b[0;34m\u001b[0m\u001b[0m\n\u001b[0m\u001b[1;32m      6\u001b[0m \u001b[0;32mfrom\u001b[0m \u001b[0mkeras\u001b[0m\u001b[0;34m.\u001b[0m\u001b[0mmodels\u001b[0m \u001b[0;32mimport\u001b[0m \u001b[0mSequential\u001b[0m\u001b[0;34m\u001b[0m\u001b[0;34m\u001b[0m\u001b[0m\n\u001b[1;32m      7\u001b[0m \u001b[0;32mfrom\u001b[0m \u001b[0mkeras\u001b[0m\u001b[0;34m.\u001b[0m\u001b[0mlayers\u001b[0m \u001b[0;32mimport\u001b[0m \u001b[0mDense\u001b[0m\u001b[0;34m\u001b[0m\u001b[0;34m\u001b[0m\u001b[0m\n",
            "\u001b[0;31mImportError\u001b[0m: cannot import name 'pad_sequences' from 'keras.preprocessing.sequence' (/usr/local/lib/python3.7/dist-packages/keras/preprocessing/sequence.py)",
            "",
            "\u001b[0;31m---------------------------------------------------------------------------\u001b[0;32m\nNOTE: If your import is failing due to a missing package, you can\nmanually install dependencies using either !pip or !apt.\n\nTo view examples of installing some common dependencies, click the\n\"Open Examples\" button below.\n\u001b[0;31m---------------------------------------------------------------------------\u001b[0m\n"
          ],
          "errorDetails": {
            "actions": [
              {
                "action": "open_url",
                "actionText": "Open Examples",
                "url": "/notebooks/snippets/importing_libraries.ipynb"
              }
            ]
          }
        }
      ]
    },
    {
      "cell_type": "code",
      "source": [
        "!wget http://nlp.stanford.edu/data/glove.6B.zip\n",
        "!unzip glove*.zip"
      ],
      "metadata": {
        "colab": {
          "base_uri": "https://localhost:8080/"
        },
        "id": "z3KXrVUDURHg",
        "outputId": "8a5d3aaa-2aa7-4493-86c8-75a4bce191cd"
      },
      "execution_count": null,
      "outputs": [
        {
          "output_type": "stream",
          "name": "stdout",
          "text": [
            "--2022-11-15 05:34:41--  http://nlp.stanford.edu/data/glove.6B.zip\n",
            "Resolving nlp.stanford.edu (nlp.stanford.edu)... 171.64.67.140\n",
            "Connecting to nlp.stanford.edu (nlp.stanford.edu)|171.64.67.140|:80... connected.\n",
            "HTTP request sent, awaiting response... 302 Found\n",
            "Location: https://nlp.stanford.edu/data/glove.6B.zip [following]\n",
            "--2022-11-15 05:34:41--  https://nlp.stanford.edu/data/glove.6B.zip\n",
            "Connecting to nlp.stanford.edu (nlp.stanford.edu)|171.64.67.140|:443... connected.\n",
            "HTTP request sent, awaiting response... 301 Moved Permanently\n",
            "Location: https://downloads.cs.stanford.edu/nlp/data/glove.6B.zip [following]\n",
            "--2022-11-15 05:34:41--  https://downloads.cs.stanford.edu/nlp/data/glove.6B.zip\n",
            "Resolving downloads.cs.stanford.edu (downloads.cs.stanford.edu)... 171.64.64.22\n",
            "Connecting to downloads.cs.stanford.edu (downloads.cs.stanford.edu)|171.64.64.22|:443... connected.\n",
            "HTTP request sent, awaiting response... 200 OK\n",
            "Length: 862182613 (822M) [application/zip]\n",
            "Saving to: ‘glove.6B.zip’\n",
            "\n",
            "glove.6B.zip         48%[========>           ] 400.68M  4.90MB/s    eta 80s    ^C\n",
            "Archive:  glove.6B.zip\n",
            "  End-of-central-directory signature not found.  Either this file is not\n",
            "  a zipfile, or it constitutes one disk of a multi-part archive.  In the\n",
            "  latter case the central directory and zipfile comment will be found on\n",
            "  the last disk(s) of this archive.\n",
            "unzip:  cannot find zipfile directory in one of glove.6B.zip or\n",
            "        glove.6B.zip.zip, and cannot find glove.6B.zip.ZIP, period.\n"
          ]
        }
      ]
    },
    {
      "cell_type": "code",
      "source": [
        "embeddings_index = dict()\n",
        "f = open('/content/glove.6B.100d.txt')\n",
        "for line in f:\n",
        "\tvalues = line.split()\n",
        "\tword = values[0]\n",
        "\tcoefs = asarray(values[1:], dtype='float32')\n",
        "\tembeddings_index[word] = coefs\n",
        "f.close()\n",
        "print('Loaded %s word vectors.' % len(embeddings_index))"
      ],
      "metadata": {
        "colab": {
          "base_uri": "https://localhost:8080/"
        },
        "id": "yXEqeHhUTz3O",
        "outputId": "0fa9d452-026e-426d-dadc-630f3eb58daf"
      },
      "execution_count": null,
      "outputs": [
        {
          "output_type": "stream",
          "name": "stdout",
          "text": [
            "Loaded 400000 word vectors.\n"
          ]
        }
      ]
    },
    {
      "cell_type": "code",
      "source": [
        "MAX_NB_WORDS = 100000\n",
        "def prepare_embedding_matrix(word_index):\n",
        "   # “”” preparing embedding matrix with our data set “””\n",
        "    embeddings_index = loading_embeddings()\n",
        "    num_words = min(MAX_NB_WORDS, len(word_index))\n",
        "    embedding_matrix = np.zeros((num_words + 1, EMBEDDING_DIM))\n",
        "    for word, i in word_index.items():\n",
        "        if i >= MAX_NB_WORDS:\n",
        "            continue\n",
        "        embedding_vector = embeddings_index.get(word)\n",
        "        if embedding_vector is not None:\n",
        "            # words not found in embedding index will be all-zeros.\n",
        "            embedding_matrix[i] = embedding_vector\n",
        "    return embedding_matrix, num_words"
      ],
      "metadata": {
        "id": "c92_HB6SWM6D"
      },
      "execution_count": null,
      "outputs": []
    },
    {
      "cell_type": "code",
      "source": [
        "from keras.models import Sequential\n",
        "from keras.layers import Dense, Dropout, Activation\n"
      ],
      "metadata": {
        "id": "JPI8r0HzUHKg"
      },
      "execution_count": null,
      "outputs": []
    },
    {
      "cell_type": "code",
      "source": [
        "MAX_SEQUENCE_LENGTH = 1000\n",
        "VALIDATION_SPLIT = 0.1\n",
        "def vectorizing_data(df):\n",
        "    #“”” vectorizing and splitting the data for training, testing, validating “””\n",
        "    label_s = df['v1'].tolist()\n",
        "    l = list(set(label_s))\n",
        "    l.sort()\n",
        "    labels_index = dict([(j,i) for i, j in enumerate(l)])\n",
        "    labels = [labels_index[i] for i in label_s]\n",
        "    print('Found %s texts.' % len(df['v2']))\n",
        "    print('labels_index — ', labels_index)\n",
        "    tokenizer = Tokenizer(num_words=MAX_NB_WORDS)\n",
        "    tokenizer.fit_on_texts(df['v2'])\n",
        "    sequences = tokenizer.texts_to_sequences(df['v2'])\n",
        "    word_index = tokenizer.word_index\n",
        "    print('Found %s unique tokens.' % len(word_index))\n",
        "    df = pad_sequences(sequences, maxlen=MAX_SEQUENCE_LENGTH)\n",
        "    labels = to_categorical(np.asarray(labels))\n",
        "    # randomizing and splitting the df into a training set, test set and a validation set\n",
        "    indices = np.arange(df.shape[0])\n",
        "    np.random.shuffle(indices)\n",
        "    df = df[indices]\n",
        "    labels = labels[indices]\n",
        "    num_validation_samples = int(VALIDATION_SPLIT * df.shape[0])\n",
        "    x_train = df[:-num_validation_samples]\n",
        "    y_train = labels[:-num_validation_samples]\n",
        "    x_val = df[-num_validation_samples:]\n",
        "    y_val = labels[-num_validation_samples:]\n",
        "    x_test = x_train[-num_validation_samples:]\n",
        "    y_test = y_train[-num_validation_samples:]\n",
        "    return x_train, y_train, x_test, y_test, x_val, y_val, word_index"
      ],
      "metadata": {
        "id": "pLoe-vg6YXEr"
      },
      "execution_count": null,
      "outputs": []
    },
    {
      "cell_type": "code",
      "source": [],
      "metadata": {
        "id": "XNQgvVdQZiUJ"
      },
      "execution_count": null,
      "outputs": []
    },
    {
      "cell_type": "code",
      "source": [
        "EMBEDDING_DIM = 100\n",
        "def model_generation(embedding_matrix, num_words):\n",
        "    #“”” model generation “””\n",
        "    embedding_layer = Embedding(num_words + 1,\n",
        "                                EMBEDDING_DIM,\n",
        "                                weights=[embedding_matrix],\n",
        "                                input_length=MAX_SEQUENCE_LENGTH,\n",
        "                                trainable=False)\n",
        "    convs = []\n",
        "    filter_sizes = [3,4,5]\n",
        "    sequence_input = Input(shape=(MAX_SEQUENCE_LENGTH,), dtype='int32')\n",
        "    embedded_sequences = embedding_layer(sequence_input)\n",
        "    for fsz in filter_sizes:\n",
        "        l_conv = Conv1D(filters=128, kernel_size=fsz, activation='relu')(embedded_sequences)\n",
        "        l_pool = MaxPooling1D(5)(l_conv)\n",
        "        convs.append(l_pool)\n",
        "    l_merge = Concatenate(axis=1)(convs)\n",
        "    l_cov1= Conv1D(filters=128, kernel_size=5, activation='relu')(l_merge)\n",
        "    l_cov1 = Dropout(0.2)(l_cov1)\n",
        "    l_pool1 = MaxPooling1D(5)(l_cov1)\n",
        "    l_cov2 = Conv1D(filters=128, kernel_size=5, activation='relu')(l_pool1)\n",
        "    l_cov2 = Dropout(0.2)(l_cov2)\n",
        "    l_pool2 = MaxPooling1D(30)(l_cov2)\n",
        "    l_flat = Flatten()(l_pool2)\n",
        "    l_dense = Dense(128, activation=’relu’)(l_flat)\n",
        "    preds = Dense(label_count, activation=’softmax’)(l_dense)\n",
        "    model = Model(sequence_input, preds)\n",
        "    return model"
      ],
      "metadata": {
        "id": "x4paafG5ZGfu"
      },
      "execution_count": null,
      "outputs": []
    }
  ]
}